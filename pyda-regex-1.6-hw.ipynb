{
 "cells": [
  {
   "cell_type": "markdown",
   "metadata": {},
   "source": [
    "# Домашнее задание к лекции \"Регулярные выражения\"\n",
    "Для зачета необходимо выполнить 4 задания.  \n",
    "Для зачета с отличием – все."
   ]
  },
  {
   "cell_type": "code",
   "execution_count": 1,
   "metadata": {},
   "outputs": [],
   "source": [
    "import re"
   ]
  },
  {
   "cell_type": "markdown",
   "metadata": {},
   "source": [
    "## Задание 1"
   ]
  },
  {
   "cell_type": "markdown",
   "metadata": {},
   "source": [
    "Напишите функцию, которая принимает на вход строку и проверяет является ли она валидным транспортным номером. Если да, то функция должна возвращать отдельно номер и регион."
   ]
  },
  {
   "cell_type": "code",
   "execution_count": 36,
   "metadata": {},
   "outputs": [],
   "source": [
    "def auto_number_check(number):    \n",
    "    \"\"\"\n",
    "    Регулярное выражение проверки частных автомобильных номеров РФ\n",
    "    \"\"\"\n",
    "    number_pattern = r'^([АВЕКМНОРСТУХ]{1}\\d{3}(?<!000)[АВЕКМНОРСТУХ]{2})(\\d{2,3})$'\n",
    "    #перечень номеров жестко задан: условие (\\d{2,3}) по-хорошему\n",
    "    #нужно модифицировать с учетом того, что, напирмер, региона 787 не существует \n",
    "    result = re.match(number_pattern,number, re.I)\n",
    "    if result != None:\n",
    "        print('Номер: '+result.group(1))\n",
    "        print('Регион: '+result.group(2))\n",
    "    else:\n",
    "        print('Номер не валиден')\n",
    "    "
   ]
  },
  {
   "cell_type": "code",
   "execution_count": 37,
   "metadata": {},
   "outputs": [],
   "source": [
    "def main():\n",
    "    number = input('Введите номер автомобиля: ')\n",
    "    auto_number_check(number)"
   ]
  },
  {
   "cell_type": "code",
   "execution_count": 39,
   "metadata": {},
   "outputs": [
    {
     "name": "stdout",
     "output_type": "stream",
     "text": [
      "Введите номер автомобиля: К200КН20\n",
      "Номер: К200КН\n",
      "Регион: 20\n"
     ]
    }
   ],
   "source": [
    "main()"
   ]
  },
  {
   "cell_type": "markdown",
   "metadata": {},
   "source": [
    "## Задание 2"
   ]
  },
  {
   "cell_type": "markdown",
   "metadata": {},
   "source": [
    "Напишите функцию, которая проверяет e-mail адрес на валидность по стандарту RFC822: http://www.w3.org/Protocols/rfc822/. Для этого постарайтесь написать (в крайнем случае найти) самый полный шаблон для проверки e-mail адресов через регулярное выражение. Разберитесь и напишите примеры, какие ваш шаблон может не охватить."
   ]
  },
  {
   "cell_type": "code",
   "execution_count": 92,
   "metadata": {},
   "outputs": [],
   "source": [
    "examples = ['k.nk@gmail.com', \n",
    "            'qqqq_93@mail.ru',\n",
    "            '  @ . ', 'nkulemzin@nav.ru',\n",
    "            '____@____._',\n",
    "            'example.fsdf@ru.index.com',\n",
    "            '\\n\\n\\n\\n\\@\\n.com']"
   ]
  },
  {
   "cell_type": "code",
   "execution_count": 93,
   "metadata": {},
   "outputs": [],
   "source": [
    "def email_check(address):\n",
    "    \"\"\"\n",
    "    Регулярное выражение проверки электронного адреса\n",
    "    \"\"\"\n",
    "    address_pattern = r'^[^@]+@([^@\\.]+\\.)+[^@\\.]+$'\n",
    "    result = re.match(address_pattern,address,re.I)\n",
    "    return result"
   ]
  },
  {
   "cell_type": "code",
   "execution_count": 94,
   "metadata": {},
   "outputs": [],
   "source": [
    "def main():\n",
    "    for ex in examples:\n",
    "        email = email_check(ex);\n",
    "        if email == None:\n",
    "            print('Емейл: ' + ex +' не прошел проверку')\n",
    "        else:\n",
    "            print('Емейл: '+ ex + ' проверку прошел')        "
   ]
  },
  {
   "cell_type": "code",
   "execution_count": 95,
   "metadata": {},
   "outputs": [
    {
     "name": "stdout",
     "output_type": "stream",
     "text": [
      "Емейл: k.nk@gmail.com проверку прошел\n",
      "Емейл: qqqq_93@mail.ru проверку прошел\n",
      "Емейл:   @ .  проверку прошел\n",
      "Емейл: nkulemzin@nav.ru проверку прошел\n",
      "Емейл: ____@____._ проверку прошел\n",
      "Емейл: example.fsdf@ru.index.com проверку прошел\n",
      "Емейл: \n",
      "\n",
      "\n",
      "\n",
      "\\@\n",
      ".com проверку прошел\n"
     ]
    }
   ],
   "source": [
    "main()"
   ]
  },
  {
   "cell_type": "markdown",
   "metadata": {},
   "source": [
    "## Задание 3\n",
    "При помощи регулярных выражений напишите функцию, которая будет возвращать акроним переданного в нее текста."
   ]
  },
  {
   "cell_type": "code",
   "execution_count": 209,
   "metadata": {},
   "outputs": [],
   "source": [
    "def replace_pattern(match):\n",
    "    return match.group(1).upper()"
   ]
  },
  {
   "cell_type": "code",
   "execution_count": 210,
   "metadata": {},
   "outputs": [],
   "source": [
    "def acronym_from_text(string):\n",
    "    \"\"\"\n",
    "    Акроним из фразы\n",
    "    \"\"\"\n",
    "    pattern = r'([a-zA-Zа-яёА-ЯЁ])([a-zA-Zа-яёА-ЯЁ])*([\\s]|$)'\n",
    "    # https://docs.python.org/3/library/re.html#re.sub\n",
    "    # If repl is a function, it is called for every non-overlapping occurrence of pattern.\n",
    "    # The function takes a single match object argument, and returns the replacement string. For example:\n",
    "    result = re.sub(pattern, replace_pattern, string)\n",
    "    return result"
   ]
  },
  {
   "cell_type": "code",
   "execution_count": 211,
   "metadata": {},
   "outputs": [],
   "source": [
    "def main():\n",
    "    user_input = input('Введите строку: ')\n",
    "    acronym = acronym_from_text(user_input)\n",
    "    print('Акроним: '+acronym)"
   ]
  },
  {
   "cell_type": "code",
   "execution_count": 212,
   "metadata": {},
   "outputs": [
    {
     "name": "stdout",
     "output_type": "stream",
     "text": [
      "Введите строку: мяу гав квак\n",
      "Акроним: МГК\n"
     ]
    }
   ],
   "source": [
    "main()"
   ]
  },
  {
   "cell_type": "markdown",
   "metadata": {},
   "source": [
    "## Задание 4\n",
    "Напишите функцию, которая будет удалять все последовательные повторы слов из заданной строки."
   ]
  },
  {
   "cell_type": "code",
   "execution_count": 242,
   "metadata": {},
   "outputs": [],
   "source": [
    "example = 'cat cat dog cat dog dog cat pig cat pig goose pig cat cat1 lame lame tiger lion tiger'"
   ]
  },
  {
   "cell_type": "code",
   "execution_count": 243,
   "metadata": {},
   "outputs": [],
   "source": [
    "def erase_repeats(string):\n",
    "    pattern = r'(\\w+\\s)\\1'\n",
    "    return re.sub(pattern,'', string)    "
   ]
  },
  {
   "cell_type": "code",
   "execution_count": 244,
   "metadata": {},
   "outputs": [],
   "source": [
    "def main():\n",
    "    result = erase_repeats(example)\n",
    "    print('Результат: '+ result)"
   ]
  },
  {
   "cell_type": "code",
   "execution_count": 245,
   "metadata": {},
   "outputs": [
    {
     "name": "stdout",
     "output_type": "stream",
     "text": [
      "Результат: dog cat cat pig cat pig goose pig cat cat1 tiger lion tiger\n"
     ]
    }
   ],
   "source": [
    "main()"
   ]
  },
  {
   "cell_type": "markdown",
   "metadata": {},
   "source": [
    "## Задание 5\n",
    "Напишите функцию, которая будет проверять номер сотового телефона на валидность, если он валиден, то переводить его в формат:   \n",
    "+7(xxx)-xxx-xx-xx  \n",
    "Постарайтесь предусмотреть как можно больше адекватных форматов изначального ввода номера.\n",
    "Примеры правильных и неправильных форматов:\n",
    "- +1 555 555-55-55;\n",
    "- 5555555555;\n",
    "- 555555555;\n",
    "- 8(555)555-55-55;\n",
    "- +7 555 555 55 55;\n",
    "- 7(555) 555-55-55;\n",
    "- +7 555+555+55+55."
   ]
  },
  {
   "cell_type": "code",
   "execution_count": 358,
   "metadata": {},
   "outputs": [],
   "source": [
    "list_numbers = ['+1 955 555-55-55',\n",
    "               '+7 955 555-55-55',\n",
    "               '89555555555',\n",
    "               '7(954)-543-34-44',\n",
    "               '8(924-565-42-12',\n",
    "               '55555555',\n",
    "               '7(955)5555555',\n",
    "               '7955 455 55 53',\n",
    "               '+7(955)-555-55-55',         \n",
    "               '955-534-34-13',\n",
    "               '+7955-555-75-55',\n",
    "               '7(955)-555-55-5535']"
   ]
  },
  {
   "cell_type": "code",
   "execution_count": 359,
   "metadata": {},
   "outputs": [],
   "source": [
    "# Прием из 3 задачи\n",
    "def substitute_f(match):\n",
    "    \"\"\"\n",
    "    Функция подстановки в re.sub \n",
    "    # https://docs.python.org/3/library/re.html#re.sub\n",
    "    \"\"\"\n",
    "    # убираю скобки cо строки оператора, если они есть (2 группа из выражения)\n",
    "    brackets_clean = match.group(2)\n",
    "    if len(match.group(2)) == 5:\n",
    "        brackets_clean = match.group(2).replace('(','').replace(')','') \n",
    "    # возвращаю результат для re.sub\n",
    "    return '+7('+brackets_clean+')-'+match.group(4)+'-'+match.group(6)+'-'+match.group(7)"
   ]
  },
  {
   "cell_type": "code",
   "execution_count": 360,
   "metadata": {},
   "outputs": [],
   "source": [
    "def check_mobile_number(numbers):\n",
    "    result = dict()\n",
    "    pattern = r'^(\\+7|7|8)?[\\s]?(9[0-9]{2}|\\(9[0-9]{2}\\))(\\s|-|)([0-9]{3})(\\s|-|)([0-9]{2})\\5([0-9]{2})$'\n",
    "    for elem in numbers:\n",
    "        result.setdefault(elem,0)\n",
    "        # Если номер валидный, то сохраняем чистую запись\n",
    "        if re.match(pattern, elem) != None:\n",
    "            ch_elem = re.sub(pattern, substitute_f, elem)\n",
    "            result[elem] = ' Чистый номер: '+ ch_elem\n",
    "        else:\n",
    "            # Иначе ничего не делаем\n",
    "            result[elem] = ' Номер не из РФ' \n",
    "    return result"
   ]
  },
  {
   "cell_type": "code",
   "execution_count": 361,
   "metadata": {},
   "outputs": [],
   "source": [
    "def main():\n",
    "    result_dict = check_mobile_number(list_numbers)\n",
    "    [print(x+' '+y) for x, y in result_dict.items()]"
   ]
  },
  {
   "cell_type": "code",
   "execution_count": 362,
   "metadata": {},
   "outputs": [
    {
     "name": "stdout",
     "output_type": "stream",
     "text": [
      "+1 955 555-55-55  Номер не из РФ\n",
      "+7 955 555-55-55  Чистый номер: +7(955)-555-55-55\n",
      "89555555555  Чистый номер: +7(955)-555-55-55\n",
      "7(954)-543-34-44  Чистый номер: +7(954)-543-34-44\n",
      "8(924-565-42-12  Номер не из РФ\n",
      "55555555  Номер не из РФ\n",
      "7(955)5555555  Чистый номер: +7(955)-555-55-55\n",
      "7955 455 55 53  Чистый номер: +7(955)-455-55-53\n",
      "+7(955)-555-55-55  Чистый номер: +7(955)-555-55-55\n",
      "955-534-34-13  Чистый номер: +7(955)-534-34-13\n",
      "+7955-555-75-55  Чистый номер: +7(955)-555-75-55\n",
      "7(955)-555-55-5535  Номер не из РФ\n"
     ]
    }
   ],
   "source": [
    "main()"
   ]
  },
  {
   "cell_type": "code",
   "execution_count": null,
   "metadata": {},
   "outputs": [],
   "source": []
  }
 ],
 "metadata": {
  "kernelspec": {
   "display_name": "Python 3",
   "language": "python",
   "name": "python3"
  },
  "language_info": {
   "codemirror_mode": {
    "name": "ipython",
    "version": 3
   },
   "file_extension": ".py",
   "mimetype": "text/x-python",
   "name": "python",
   "nbconvert_exporter": "python",
   "pygments_lexer": "ipython3",
   "version": "3.7.3"
  }
 },
 "nbformat": 4,
 "nbformat_minor": 2
}
