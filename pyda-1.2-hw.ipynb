{
 "cells": [
  {
   "cell_type": "markdown",
   "metadata": {},
   "source": [
    "**ДЗ 2:**"
   ]
  },
  {
   "cell_type": "markdown",
   "metadata": {},
   "source": [
    "**Задача 1:** Дан список с визитами по городам и странам. Напишите код, который возвращает отфильтрованный список geo_logs, содержащий только визиты из России. Считайте, что список geo_logs легко помещается в оперативной памяти."
   ]
  },
  {
   "cell_type": "code",
   "execution_count": 23,
   "metadata": {},
   "outputs": [
    {
     "name": "stdout",
     "output_type": "stream",
     "text": [
      "['visit1', ['Москва', 'Россия']]\n",
      "['visit3', ['Владимир', 'Россия']]\n",
      "['visit7', ['Тула', 'Россия']]\n",
      "['visit8', ['Тула', 'Россия']]\n",
      "['visit9', ['Курск', 'Россия']]\n",
      "['visit10', ['Архангельск', 'Россия']]\n"
     ]
    }
   ],
   "source": [
    "geo_logs = [['visit1', ['Москва', 'Россия']],\n",
    "    ['visit2', ['Дели', 'Индия']],\n",
    "    ['visit3', ['Владимир', 'Россия']],\n",
    "    ['visit4', ['Лиссабон', 'Португалия']],\n",
    "    ['visit5', ['Париж', 'Франция']],\n",
    "    ['visit6', ['Лиссабон', 'Португалия']],\n",
    "    ['visit7', ['Тула', 'Россия']],\n",
    "    ['visit8', ['Тула', 'Россия']],\n",
    "    ['visit9', ['Курск', 'Россия']],\n",
    "    ['visit10', ['Архангельск', 'Россия']]\n",
    "]\n",
    "geo_logs_russia = []\n",
    "for log_elem in geo_logs:\n",
    "    if log_elem[1][1] == 'Россия':\n",
    "        geo_logs_russia.append(log_elem)\n",
    "\n",
    "for log_elem in geo_logs_russia:\n",
    "    print(log_elem)\n",
    "    "
   ]
  },
  {
   "cell_type": "markdown",
   "metadata": {},
   "source": [
    "**Задача 2:** Выведите на экран все уникальные гео-ID из списка координат ids. Т. е. список вида [213, 15, 54, 119, 98, 35]\n",
    "ids = [[‘user1’, [213, 213, 213, 15, 213]], [‘user2’, [54, 54, 119, 119, 119]], [‘user3’, [213, 98, 98, 35]]]"
   ]
  },
  {
   "cell_type": "code",
   "execution_count": 73,
   "metadata": {},
   "outputs": [
    {
     "name": "stdout",
     "output_type": "stream",
     "text": [
      "[15, 35, 54, 98, 119, 213]\n"
     ]
    }
   ],
   "source": [
    "ids = [['user1', [213, 213, 213, 15, 213]], ['user2', [54, 54, 119, 119, 119]], ['user3', [213, 98, 98, 35]]]\n",
    "only_ids = []\n",
    "for id_elem in ids:\n",
    "    for direct_id in id_elem[1]:\n",
    "        only_ids.append(direct_id)\n",
    "sorted_ids = sorted(only_ids, reverse = False)\n",
    "i = 0\n",
    "while i < len(sorted_ids):\n",
    "    if sorted_ids.count(sorted_ids[i]) > 1:\n",
    "        del(sorted_ids[i])\n",
    "    else:\n",
    "        i+=1\n",
    "print(sorted_ids)"
   ]
  },
  {
   "cell_type": "markdown",
   "metadata": {},
   "source": [
    "**Задача 3:** Список поисковых запросов. Получить распределение количества слов в них. Т. е. поисковых запросов из одного слова 5%, из двух - 7%, из трех - 3% итд.\n",
    "queries = [\n",
    "‘смотреть сериалы онлайн’,\n",
    "‘новости спорта’,\n",
    "‘афиша кино’,\n",
    "‘курс доллара’,\n",
    "‘сериалы этим летом’,\n",
    "‘курс по питону’,\n",
    "‘сериалы про спорт’,\n",
    "]"
   ]
  },
  {
   "cell_type": "code",
   "execution_count": 112,
   "metadata": {},
   "outputs": [
    {
     "name": "stdout",
     "output_type": "stream",
     "text": [
      "2 - 43%; 3 - 57%\n"
     ]
    }
   ],
   "source": [
    "queries = ['смотреть сериалы онлайн', 'новости спорта', 'афиша кино', 'курс доллара', 'сериалы этим летом',\n",
    "           'курс по питону', 'сериалы про спорт']\n",
    "list_num_words = []\n",
    "#получаем отсортированный список кол-ва слов в фразах\n",
    "for phrase in queries:\n",
    "    num_words = len(phrase) - len(phrase.replace(' ','')) + 1\n",
    "    list_num_words.append(num_words)\n",
    "    sorted_list = sorted(list_num_words)\n",
    "#если значение пре\n",
    "i = 0\n",
    "display = ''\n",
    "for elem in sorted_list:\n",
    "    percent = list_num_words.count(elem) / len(list_num_words)\n",
    "    #формируем строку для вывода\n",
    "    result = str(elem)+' - '+f'{percent:.0%}'\n",
    "    #если значение первое в списке или не равно предыдущему, то добавляем в вывод\n",
    "    if i == 0:\n",
    "        display = result\n",
    "    elif sorted_list[i] != sorted_list[i-1]:\n",
    "        display = display +'; '+ result\n",
    "    i+=1\n",
    "print(display)\n",
    "  "
   ]
  },
  {
   "cell_type": "markdown",
   "metadata": {},
   "source": [
    "**Задача 4:** (бонусное)\n",
    "Дан поток логов по количеству просмотренных страниц для каждого пользователя. Список отсортирован по ID пользователя. Вам необходимо написать алгоритм, который считает среднее значение просмотров на пользователя. Т. е. надо посчитать отношение суммы всех просмотров к количеству уникальных пользователей. Учтите, что весь список stream не помещается в оперативную память, т. е. его нужно обрабатывать поэлементно в цикле.\n",
    "\n",
    "stream = [\n",
    "‘2018-01-01,user1,3’,\n",
    "‘2018-01-07,user1,4’,\n",
    "‘2018-03-29,user1,1’,\n",
    "‘2018-04-04,user1,13’,\n",
    "‘2018-01-05,user2,7’,\n",
    "‘2018-06-14,user3,4’,\n",
    "‘2018-07-02,user3,10’,\n",
    "‘2018-03-21,user4,19’,\n",
    "‘2018-03-22,user4,4’,\n",
    "‘2018-04-22,user4,8’,\n",
    "‘2018-05-03,user4,9’,\n",
    "‘2018-05-11,user4,11’,\n",
    "]"
   ]
  },
  {
   "cell_type": "code",
   "execution_count": 133,
   "metadata": {},
   "outputs": [
    {
     "name": "stdout",
     "output_type": "stream",
     "text": [
      "23\n"
     ]
    }
   ],
   "source": [
    "stream = [ '2018-01-01,user1,3', '2018-01-07,user1,4', '2018-03-29,user1,1', '2018-04-04,user1,13', '2018-01-05,user2,7', '2018-06-14,user3,4', '2018-07-02,user3,10', '2018-03-21,user4,19', '2018-03-22,user4,4', '2018-04-22,user4,8', '2018-05-03,user4,9', '2018-05-11,user4,11', ]\n",
    "num_elem = len(stream)\n",
    "num_users = 0\n",
    "num_views = 0\n",
    "for i in range(num_elem):\n",
    "    list = stream[i].split(',')    \n",
    "    num_views += int(list[2])\n",
    "    if i == 0:\n",
    "        num_users += 1\n",
    "    else:\n",
    "        prlist = stream[i-1].split(',')\n",
    "        if list[1] != prlist[1]:\n",
    "            num_users +=1\n",
    "avg_views_per_user = num_views // num_users\n",
    "print(avg_views_per_useruser)"
   ]
  }
 ],
 "metadata": {
  "kernelspec": {
   "display_name": "Python 3",
   "language": "python",
   "name": "python3"
  },
  "language_info": {
   "codemirror_mode": {
    "name": "ipython",
    "version": 3
   },
   "file_extension": ".py",
   "mimetype": "text/x-python",
   "name": "python",
   "nbconvert_exporter": "python",
   "pygments_lexer": "ipython3",
   "version": "3.7.3"
  }
 },
 "nbformat": 4,
 "nbformat_minor": 2
}
