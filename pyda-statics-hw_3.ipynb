{
 "cells": [
  {
   "cell_type": "markdown",
   "metadata": {
    "colab_type": "text",
    "id": "9wqpiQR2AbtX"
   },
   "source": [
    "# Домашнее задание №3"
   ]
  },
  {
   "cell_type": "code",
   "execution_count": 1,
   "metadata": {
    "colab": {},
    "colab_type": "code",
    "id": "Zo_j9HCKCPgi"
   },
   "outputs": [],
   "source": [
    "import numpy as np\n",
    "from scipy.stats import t\n",
    "from scipy.stats import norm\n",
    "import matplotlib.pyplot as plt\n",
    "from scipy import stats\n",
    "import pandas as pd\n",
    "import io\n",
    "import requests\n",
    "import seaborn as sns\n",
    "\n",
    "%matplotlib inline"
   ]
  },
  {
   "cell_type": "markdown",
   "metadata": {
    "colab_type": "text",
    "id": "LrhPyaIACZsb"
   },
   "source": [
    "Таблица Indian liver pations records."
   ]
  },
  {
   "cell_type": "markdown",
   "metadata": {},
   "source": [
    "Загрузить датасет https://www.kaggle.com/uciml/indian-liver-patient-records. "
   ]
  },
  {
   "cell_type": "code",
   "execution_count": 2,
   "metadata": {
    "colab": {
     "base_uri": "https://localhost:8080/",
     "height": 224
    },
    "colab_type": "code",
    "id": "LQWcltRn-vZc",
    "outputId": "57d517f0-64f9-47c1-e092-b724da8029a1"
   },
   "outputs": [
    {
     "data": {
      "text/html": [
       "<div>\n",
       "<style scoped>\n",
       "    .dataframe tbody tr th:only-of-type {\n",
       "        vertical-align: middle;\n",
       "    }\n",
       "\n",
       "    .dataframe tbody tr th {\n",
       "        vertical-align: top;\n",
       "    }\n",
       "\n",
       "    .dataframe thead th {\n",
       "        text-align: right;\n",
       "    }\n",
       "</style>\n",
       "<table border=\"1\" class=\"dataframe\">\n",
       "  <thead>\n",
       "    <tr style=\"text-align: right;\">\n",
       "      <th></th>\n",
       "      <th>Age</th>\n",
       "      <th>Gender</th>\n",
       "      <th>Total_Bilirubin</th>\n",
       "      <th>Direct_Bilirubin</th>\n",
       "      <th>Alkaline_Phosphotase</th>\n",
       "      <th>Alamine_Aminotransferase</th>\n",
       "      <th>Aspartate_Aminotransferase</th>\n",
       "      <th>Total_Protiens</th>\n",
       "      <th>Albumin</th>\n",
       "      <th>Albumin_and_Globulin_Ratio</th>\n",
       "      <th>Dataset</th>\n",
       "    </tr>\n",
       "  </thead>\n",
       "  <tbody>\n",
       "    <tr>\n",
       "      <th>578</th>\n",
       "      <td>60</td>\n",
       "      <td>Male</td>\n",
       "      <td>0.5</td>\n",
       "      <td>0.1</td>\n",
       "      <td>500</td>\n",
       "      <td>20</td>\n",
       "      <td>34</td>\n",
       "      <td>5.9</td>\n",
       "      <td>1.6</td>\n",
       "      <td>0.37</td>\n",
       "      <td>2</td>\n",
       "    </tr>\n",
       "    <tr>\n",
       "      <th>579</th>\n",
       "      <td>40</td>\n",
       "      <td>Male</td>\n",
       "      <td>0.6</td>\n",
       "      <td>0.1</td>\n",
       "      <td>98</td>\n",
       "      <td>35</td>\n",
       "      <td>31</td>\n",
       "      <td>6.0</td>\n",
       "      <td>3.2</td>\n",
       "      <td>1.10</td>\n",
       "      <td>1</td>\n",
       "    </tr>\n",
       "    <tr>\n",
       "      <th>580</th>\n",
       "      <td>52</td>\n",
       "      <td>Male</td>\n",
       "      <td>0.8</td>\n",
       "      <td>0.2</td>\n",
       "      <td>245</td>\n",
       "      <td>48</td>\n",
       "      <td>49</td>\n",
       "      <td>6.4</td>\n",
       "      <td>3.2</td>\n",
       "      <td>1.00</td>\n",
       "      <td>1</td>\n",
       "    </tr>\n",
       "    <tr>\n",
       "      <th>581</th>\n",
       "      <td>31</td>\n",
       "      <td>Male</td>\n",
       "      <td>1.3</td>\n",
       "      <td>0.5</td>\n",
       "      <td>184</td>\n",
       "      <td>29</td>\n",
       "      <td>32</td>\n",
       "      <td>6.8</td>\n",
       "      <td>3.4</td>\n",
       "      <td>1.00</td>\n",
       "      <td>1</td>\n",
       "    </tr>\n",
       "    <tr>\n",
       "      <th>582</th>\n",
       "      <td>38</td>\n",
       "      <td>Male</td>\n",
       "      <td>1.0</td>\n",
       "      <td>0.3</td>\n",
       "      <td>216</td>\n",
       "      <td>21</td>\n",
       "      <td>24</td>\n",
       "      <td>7.3</td>\n",
       "      <td>4.4</td>\n",
       "      <td>1.50</td>\n",
       "      <td>2</td>\n",
       "    </tr>\n",
       "  </tbody>\n",
       "</table>\n",
       "</div>"
      ],
      "text/plain": [
       "     Age Gender  Total_Bilirubin  Direct_Bilirubin  Alkaline_Phosphotase  \\\n",
       "578   60   Male              0.5               0.1                   500   \n",
       "579   40   Male              0.6               0.1                    98   \n",
       "580   52   Male              0.8               0.2                   245   \n",
       "581   31   Male              1.3               0.5                   184   \n",
       "582   38   Male              1.0               0.3                   216   \n",
       "\n",
       "     Alamine_Aminotransferase  Aspartate_Aminotransferase  Total_Protiens  \\\n",
       "578                        20                          34             5.9   \n",
       "579                        35                          31             6.0   \n",
       "580                        48                          49             6.4   \n",
       "581                        29                          32             6.8   \n",
       "582                        21                          24             7.3   \n",
       "\n",
       "     Albumin  Albumin_and_Globulin_Ratio  Dataset  \n",
       "578      1.6                        0.37        2  \n",
       "579      3.2                        1.10        1  \n",
       "580      3.2                        1.00        1  \n",
       "581      3.4                        1.00        1  \n",
       "582      4.4                        1.50        2  "
      ]
     },
     "execution_count": 2,
     "metadata": {},
     "output_type": "execute_result"
    }
   ],
   "source": [
    "url=\"http://yustiks.ru/dataset/indian_liver_patient.csv\"\n",
    "data=pd.read_csv(url)\n",
    "data.tail()"
   ]
  },
  {
   "cell_type": "markdown",
   "metadata": {
    "colab_type": "text",
    "id": "XyNNmtvIDDy3"
   },
   "source": [
    "Columns:\n",
    "\n",
    "*  Age of the patient\n",
    "*  Gender of the patient\n",
    "*  Total Bilirubin\n",
    "*  Direct Bilirubin\n",
    "*  Alkaline Phosphotase\n",
    "*  Alamine Aminotransferase\n",
    "*  Aspartate Aminotransferase\n",
    "*  Total Protiens\n",
    "*  Albumin\n",
    "*  Albumin and Globulin Ratio\n",
    "*  Dataset: field used to split the data into two sets (patient with liver disease, or no disease)\n"
   ]
  },
  {
   "cell_type": "markdown",
   "metadata": {},
   "source": [
    "Dataset: пациент с болезнью печени - 1,\n",
    "         пациент не болеет - 2"
   ]
  },
  {
   "cell_type": "markdown",
   "metadata": {
    "colab_type": "text",
    "id": "3v0ZWcBVSOXK"
   },
   "source": [
    "Построить одномерную линейную регрессию Direct_Bilirubin и Total_Bilirubin, предварительно разделив данные на 80% тренировочных и 20% тестовых. Построить график: исходных тренировочных и тестовых данных, а также прямой линейной регрессии."
   ]
  },
  {
   "cell_type": "code",
   "execution_count": 3,
   "metadata": {},
   "outputs": [],
   "source": [
    "direct_billrubin = data['Direct_Bilirubin']\n",
    "total_billrubin = data['Total_Bilirubin']\n",
    "\n",
    "# Из вектора в столбец numpy\n",
    "direct_billrubin = np.array(direct_billrubin).reshape(-1,1)\n",
    "total_billrubin = np.array(total_billrubin).reshape(-1,1)"
   ]
  },
  {
   "cell_type": "code",
   "execution_count": 4,
   "metadata": {},
   "outputs": [],
   "source": [
    "from sklearn.model_selection import train_test_split\n",
    "\n",
    "X_train, X_test, Y_train, Y_test = train_test_split(\n",
    "    direct_billrubin,\n",
    "    total_billrubin,\n",
    "    test_size = 0.2,\n",
    "    random_state = 7\n",
    ")"
   ]
  },
  {
   "cell_type": "code",
   "execution_count": 5,
   "metadata": {},
   "outputs": [
    {
     "data": {
      "text/plain": [
       "LinearRegression(copy_X=True, fit_intercept=True, n_jobs=None, normalize=False)"
      ]
     },
     "execution_count": 5,
     "metadata": {},
     "output_type": "execute_result"
    }
   ],
   "source": [
    "from sklearn.linear_model import LinearRegression\n",
    "model = LinearRegression()\n",
    "\n",
    "# Обучаем модель линейной регрессии\n",
    "model.fit(X_train, Y_train)"
   ]
  },
  {
   "cell_type": "code",
   "execution_count": 6,
   "metadata": {},
   "outputs": [
    {
     "data": {
      "text/plain": [
       "0.9894365984154219"
      ]
     },
     "execution_count": 6,
     "metadata": {},
     "output_type": "execute_result"
    }
   ],
   "source": [
    "# Оценка модели \n",
    "model.score(X_test, Y_test)"
   ]
  },
  {
   "cell_type": "code",
   "execution_count": 7,
   "metadata": {},
   "outputs": [
    {
     "data": {
      "image/png": "[encoded data removed]",
      "text/plain": [
       "<Figure size 432x288 with 1 Axes>"
      ]
     },
     "metadata": {
      "needs_background": "light"
     },
     "output_type": "display_data"
    }
   ],
   "source": [
    "plt.xlabel('Direct_Bilirubin')\n",
    "plt.ylabel('Total_Bilirubin')\n",
    "plt.title('Линейная регрессия')\n",
    "\n",
    "#predicted_y = model.predict(X_test)\n",
    "\n",
    "x = np.linspace(min(min(X_train), min(X_test))\n",
    "                , max(max(X_train), max(X_test)), 100)\n",
    "y = (model.coef_*x + model.intercept_)\n",
    "\n",
    "plt.plot(x,y)\n",
    "#plt.plot(X_test, predicted_y)\n",
    "\n",
    "plt.plot(X_train, Y_train, 'r.')\n",
    "plt.plot(X_test, Y_test, 'g.')\n",
    "plt.legend(['Линейная регрессия',  'Тренировочные данные', 'Тестовые данные'])\n",
    "plt.show()"
   ]
  },
  {
   "cell_type": "markdown",
   "metadata": {},
   "source": [
    "Построить одномерную полиномиальную регрессию на Direct_Bilirubin и Total_Bilirubin, используя тренировочные и тестовые данные из шага выше. Проверить точность предсказаний на тестовых данных. Получилось ли улучшить результат?"
   ]
  },
  {
   "cell_type": "code",
   "execution_count": 8,
   "metadata": {},
   "outputs": [
    {
     "data": {
      "text/plain": [
       "0.9869521444386617"
      ]
     },
     "execution_count": 8,
     "metadata": {},
     "output_type": "execute_result"
    }
   ],
   "source": [
    "from sklearn.preprocessing import PolynomialFeatures\n",
    "\n",
    "# Пробуем полином степени 2\n",
    "poly_reg_2 = PolynomialFeatures(degree=2)\n",
    "\n",
    "# Преобразуем к квадрату X_train\n",
    "X_poly_2 = poly_reg_2.fit_transform(X_train)\n",
    "\n",
    "# Создадим модель линейной регрессии (которую применим к квадрату X)\n",
    "model_poly_reg = LinearRegression()\n",
    "\n",
    "# Обучим модель\n",
    "model_poly_reg.fit(X_poly_2, Y_train)\n",
    "\n",
    "# Оценка модели: от квадрата X_test, Y_test\n",
    "model_poly_reg.score(poly_reg_2.fit_transform(X_test), Y_test)"
   ]
  },
  {
   "cell_type": "markdown",
   "metadata": {},
   "source": [
    "Видно, что оценка уменьшилась"
   ]
  },
  {
   "cell_type": "code",
   "execution_count": 9,
   "metadata": {},
   "outputs": [
    {
     "data": {
      "image/png": "[encoded data removed]",
      "text/plain": [
       "<Figure size 432x288 with 1 Axes>"
      ]
     },
     "metadata": {
      "needs_background": "light"
     },
     "output_type": "display_data"
    }
   ],
   "source": [
    "def viz_polymonial(model, polynom_feature):\n",
    "    plt.scatter(X_train, Y_train, c='red')\n",
    "    plt.scatter(X_test, Y_test, c='green')\n",
    "    x = np.linspace(min(min(X_train), min(X_test)) - 40\n",
    "              , max(max(X_train), max(X_test)) + 40, 100)\n",
    "    \n",
    "    y = model.predict(polynom_feature.fit_transform(x))\n",
    "    \n",
    "    plt.plot(x, y, 'b')\n",
    "    plt.title(f'Полиномиальная регрессия степени {polynom_feature.degree}')\n",
    "    plt.xlabel('Direct_Bilirubin')\n",
    "    plt.ylabel('Total_Bilirubin')\n",
    "    plt.legend(['Полиномиальная регрессия', 'Тренировочные данные', 'Тестовые данные'])\n",
    "    plt.show()\n",
    "    return\n",
    "viz_polymonial(model_poly_reg, poly_reg_2)"
   ]
  },
  {
   "cell_type": "code",
   "execution_count": 10,
   "metadata": {},
   "outputs": [
    {
     "name": "stdout",
     "output_type": "stream",
     "text": [
      "Оценка модели 3-ой степени:0.9815\n"
     ]
    },
    {
     "data": {
      "image/png": "[encoded data removed]",
      "text/plain": [
       "<Figure size 432x288 with 1 Axes>"
      ]
     },
     "metadata": {
      "needs_background": "light"
     },
     "output_type": "display_data"
    },
    {
     "name": "stdout",
     "output_type": "stream",
     "text": [
      "Оценка модели 4-ой степени:0.9814\n"
     ]
    },
    {
     "data": {
      "image/png": "[encoded data removed]",
      "text/plain": [
       "<Figure size 432x288 with 1 Axes>"
      ]
     },
     "metadata": {
      "needs_background": "light"
     },
     "output_type": "display_data"
    },
    {
     "name": "stdout",
     "output_type": "stream",
     "text": [
      "Оценка модели 5-ой степени:0.9813\n"
     ]
    },
    {
     "data": {
      "image/png": "[encoded data removed]",
      "text/plain": [
       "<Figure size 432x288 with 1 Axes>"
      ]
     },
     "metadata": {
      "needs_background": "light"
     },
     "output_type": "display_data"
    },
    {
     "name": "stdout",
     "output_type": "stream",
     "text": [
      "Оценка модели 6-ой степени:0.9695\n"
     ]
    },
    {
     "data": {
      "image/png": "[encoded data removed]",
      "text/plain": [
       "<Figure size 432x288 with 1 Axes>"
      ]
     },
     "metadata": {
      "needs_background": "light"
     },
     "output_type": "display_data"
    },
    {
     "name": "stdout",
     "output_type": "stream",
     "text": [
      "Оценка модели 7-ой степени:0.9674\n"
     ]
    },
    {
     "data": {
      "image/png": "[encoded data removed]",
      "text/plain": [
       "<Figure size 432x288 with 1 Axes>"
      ]
     },
     "metadata": {
      "needs_background": "light"
     },
     "output_type": "display_data"
    }
   ],
   "source": [
    "# Пробуем полиномы степени 3+ степени\n",
    "\n",
    "for i in range(3, 8):\n",
    "    poly_reg_i = PolynomialFeatures(degree = i)\n",
    "    \n",
    "    # Преобразуем X_train к i-ой степени\n",
    "    X_poly_i = poly_reg_i.fit_transform(X_train)\n",
    "\n",
    "    # Переобучим модель (от i-степени)\n",
    "    model_poly_reg.fit(X_poly_i, Y_train)\n",
    "\n",
    "    # Оценка модели: от куба X_test, Y_test\n",
    "    print(f'Оценка модели {i}-ой степени:{model_poly_reg.score(poly_reg_i.fit_transform(X_test), Y_test):.4f}')\n",
    "\n",
    "    # Отрисуем линию полиномиальную регрессию \n",
    "    viz_polymonial(model_poly_reg, poly_reg_i)"
   ]
  },
  {
   "cell_type": "markdown",
   "metadata": {},
   "source": [
    "**ВЫВОД:** <br>\n",
    "При увеличении степени многочлена полиномиальной регресси результат не улучшился. Модль линейная регрессии (полином первой степени) оптимальна"
   ]
  },
  {
   "cell_type": "markdown",
   "metadata": {
    "colab_type": "text",
    "id": "bv5rdcvPSi_O"
   },
   "source": [
    "Построить многомерную **логистическую регрессию** для предсказания болезни (Dataset) от всех параметров, предварительно разделив данные на 80% тренировочных и 20% тестовых. Сделать классификационный отчет (куда включить количество найденных параметров true positive и false negative). Посмотреть какой получился результат.\n",
    "\n",
    "Улучшить модель за счет уменьшения параметров, отобранных для обучения модели. Выбрать только те атрибуты, которые коррелируют с таргет значением (атрибут Dataset) более 50% (нужно будет построить матрицу корреляций и посмотреть в ней параметры, наиболее коррелирующие с Dataset атрибутом). Проверить модель на тестовых данных, полученных выше. Построить классификационный отчет, сделать сравнение двух моделей по этим классификационным отчетам."
   ]
  },
  {
   "cell_type": "code",
   "execution_count": 11,
   "metadata": {},
   "outputs": [],
   "source": [
    "import math\n",
    "\n",
    "# ОЧИЩАЕМ data\n",
    "\n",
    "data=pd.read_csv(url)\n",
    "\n",
    "# Добавление элементов в DataFrame через цикл выполняется с помощью списков\n",
    "empty_lines = []\n",
    "\n",
    "for i in data.columns:\n",
    "    # Если в столбце есть пустые элементы\n",
    "    if len(data[data[i].isna() == True]) > 0:\n",
    "        # то перезаписываем X\n",
    "        data = data[data[i].isna() != True]\n",
    "        # и если нужно, то для каждого элемента записываем в список строк соответствующую строку\n",
    "        for elem in data[data[i].isna() == True].values.tolist():\n",
    "            empty_lines.append(elem)\n",
    "            \n",
    "data1 = pd.DataFrame(empty_lines,columns=data.columns).drop_duplicates()\n",
    "# На случай если строка учтена 2 раза\n",
    "# data1 - набор строк, который исключили\n",
    "\n",
    "# представим пол кодом:\n",
    "data.loc[(data['Gender'] == 'Female'), 'Gender_Code'] = 0\n",
    "data.loc[(data['Gender'] == 'Male'), 'Gender_Code'] = 1\n",
    "data['Gender_Code']= data['Gender_Code'].astype(int)\n",
    "data = data.drop('Gender', axis =1 )\n",
    "\n",
    "# Весь фрейм, кроме колонки Dataset\n",
    "X = data.drop('Dataset', axis=1)\n",
    "Y = data['Dataset']"
   ]
  },
  {
   "cell_type": "code",
   "execution_count": 12,
   "metadata": {},
   "outputs": [],
   "source": [
    "from sklearn.linear_model import LogisticRegression\n",
    "\n",
    "# разделим на тренировочные данные и на тестовые\n",
    "X_train, X_test, Y_train, Y_test = train_test_split(X, Y, test_size=0.2, random_state=10)\n",
    "\n",
    "# liblinear - алгоритм подходит для небольших выборок (у нас 579 элементов)\n",
    "# Создаем модель\n",
    "logistic_model = LogisticRegression(solver='liblinear')\n",
    "\n",
    "# Обучаем\n",
    "logistic_model.fit(X_train, Y_train);"
   ]
  },
  {
   "cell_type": "code",
   "execution_count": 13,
   "metadata": {},
   "outputs": [
    {
     "name": "stdout",
     "output_type": "stream",
     "text": [
      "              precision    recall  f1-score   support\n",
      "\n",
      "           1       0.69      0.95      0.80        77\n",
      "           2       0.60      0.15      0.24        39\n",
      "\n",
      "    accuracy                           0.68       116\n",
      "   macro avg       0.64      0.55      0.52       116\n",
      "weighted avg       0.66      0.68      0.61       116\n",
      "\n"
     ]
    }
   ],
   "source": [
    "from sklearn.metrics import classification_report\n",
    "\n",
    "logistic_model_pred = logistic_model.predict(X_test)\n",
    "\n",
    "# Сравниваем реальные и полученные значения\n",
    "print(classification_report(Y_test, logistic_model_pred))"
   ]
  },
  {
   "cell_type": "markdown",
   "metadata": {},
   "source": [
    "**Модель нашла только 15 процентов здоровых из всех здоровых в выборке (recall), при это правильность определения здоровых пациентов всего 60 процентов (presicion)**"
   ]
  },
  {
   "cell_type": "code",
   "execution_count": 14,
   "metadata": {},
   "outputs": [
    {
     "data": {
      "text/html": [
       "<div>\n",
       "<style scoped>\n",
       "    .dataframe tbody tr th:only-of-type {\n",
       "        vertical-align: middle;\n",
       "    }\n",
       "\n",
       "    .dataframe tbody tr th {\n",
       "        vertical-align: top;\n",
       "    }\n",
       "\n",
       "    .dataframe thead th {\n",
       "        text-align: right;\n",
       "    }\n",
       "</style>\n",
       "<table border=\"1\" class=\"dataframe\">\n",
       "  <thead>\n",
       "    <tr style=\"text-align: right;\">\n",
       "      <th></th>\n",
       "      <th>Dataset</th>\n",
       "    </tr>\n",
       "  </thead>\n",
       "  <tbody>\n",
       "    <tr>\n",
       "      <th>Age</th>\n",
       "      <td>-0.13</td>\n",
       "    </tr>\n",
       "    <tr>\n",
       "      <th>Total_Bilirubin</th>\n",
       "      <td>-0.22</td>\n",
       "    </tr>\n",
       "    <tr>\n",
       "      <th>Direct_Bilirubin</th>\n",
       "      <td>-0.25</td>\n",
       "    </tr>\n",
       "    <tr>\n",
       "      <th>Alkaline_Phosphotase</th>\n",
       "      <td>-0.18</td>\n",
       "    </tr>\n",
       "    <tr>\n",
       "      <th>Alamine_Aminotransferase</th>\n",
       "      <td>-0.16</td>\n",
       "    </tr>\n",
       "    <tr>\n",
       "      <th>Aspartate_Aminotransferase</th>\n",
       "      <td>-0.15</td>\n",
       "    </tr>\n",
       "    <tr>\n",
       "      <th>Total_Protiens</th>\n",
       "      <td>0.03</td>\n",
       "    </tr>\n",
       "    <tr>\n",
       "      <th>Albumin</th>\n",
       "      <td>0.16</td>\n",
       "    </tr>\n",
       "    <tr>\n",
       "      <th>Albumin_and_Globulin_Ratio</th>\n",
       "      <td>0.16</td>\n",
       "    </tr>\n",
       "    <tr>\n",
       "      <th>Dataset</th>\n",
       "      <td>1.00</td>\n",
       "    </tr>\n",
       "    <tr>\n",
       "      <th>Gender_Code</th>\n",
       "      <td>-0.08</td>\n",
       "    </tr>\n",
       "  </tbody>\n",
       "</table>\n",
       "</div>"
      ],
      "text/plain": [
       "                            Dataset\n",
       "Age                           -0.13\n",
       "Total_Bilirubin               -0.22\n",
       "Direct_Bilirubin              -0.25\n",
       "Alkaline_Phosphotase          -0.18\n",
       "Alamine_Aminotransferase      -0.16\n",
       "Aspartate_Aminotransferase    -0.15\n",
       "Total_Protiens                 0.03\n",
       "Albumin                        0.16\n",
       "Albumin_and_Globulin_Ratio     0.16\n",
       "Dataset                        1.00\n",
       "Gender_Code                   -0.08"
      ]
     },
     "execution_count": 14,
     "metadata": {},
     "output_type": "execute_result"
    }
   ],
   "source": [
    "# Строим матрицу корреляций для отбора только более-менее значимых связей c Y (|r| > 0,2)\n",
    "corr = data.corr()[['Dataset']]\n",
    "corr = corr.round(2)\n",
    "corr"
   ]
  },
  {
   "cell_type": "code",
   "execution_count": 15,
   "metadata": {},
   "outputs": [],
   "source": [
    "corr['Dataset_Abs'] = corr['Dataset'].abs()\n",
    "corr = corr.loc[corr.index.values != 'Dataset']"
   ]
  },
  {
   "cell_type": "code",
   "execution_count": 16,
   "metadata": {},
   "outputs": [],
   "source": [
    "#corr['Dataset_Abs'] = corr['Dataset'].abs()\n",
    "\n",
    "# Отбираем значимые колонки ( > 0.15)\n",
    "corr1 = corr.loc[corr['Dataset_Abs'] > 0.15]\n",
    "columns_1 = corr1.index.values\n",
    "\n",
    "X_new_1 = pd.DataFrame(data, columns = columns_1)\n",
    "\n",
    "# Отбираем самую значимую колонку\n",
    "corr2 = corr.loc[corr['Dataset_Abs'] == corr['Dataset_Abs'].max()]\n",
    "column_2 = corr2.index.values\n",
    "\n",
    "X_new_2 = pd.DataFrame(data, columns = column_2)"
   ]
  },
  {
   "cell_type": "code",
   "execution_count": 17,
   "metadata": {},
   "outputs": [
    {
     "name": "stdout",
     "output_type": "stream",
     "text": [
      "              precision    recall  f1-score   support\n",
      "\n",
      "           1       0.80      0.79      0.79       214\n",
      "           2       0.42      0.45      0.44        76\n",
      "\n",
      "    accuracy                           0.70       290\n",
      "   macro avg       0.61      0.62      0.61       290\n",
      "weighted avg       0.70      0.70      0.70       290\n",
      "\n"
     ]
    }
   ],
   "source": [
    "# разделим на тренировочные данные и на тестовые\n",
    "X_train, X_test, Y_train, Y_test = train_test_split(X_new_1, Y, test_size=0.5, random_state=14)\n",
    "\n",
    "# Обучаем модель\n",
    "logistic_model.fit(X_train, Y_train)\n",
    "\n",
    "logistic_model_pred = logistic_model.predict(X_test)\n",
    "\n",
    "# Сравниваем реальные и полученные значения\n",
    "print(classification_report(Y_test, logistic_model_pred))"
   ]
  },
  {
   "cell_type": "markdown",
   "metadata": {},
   "source": [
    "**При выборе нескольких колонок ситуция несильно меняется (при разных random_state). Корреляция между переменными слишком слабая**"
   ]
  },
  {
   "cell_type": "code",
   "execution_count": 18,
   "metadata": {},
   "outputs": [
    {
     "name": "stdout",
     "output_type": "stream",
     "text": [
      "              precision    recall  f1-score   support\n",
      "\n",
      "           1       0.71      1.00      0.83        82\n",
      "           2       0.00      0.00      0.00        34\n",
      "\n",
      "    accuracy                           0.71       116\n",
      "   macro avg       0.35      0.50      0.41       116\n",
      "weighted avg       0.50      0.71      0.59       116\n",
      "\n"
     ]
    },
    {
     "name": "stderr",
     "output_type": "stream",
     "text": [
      "C:\\ProgramData\\Anaconda3\\lib\\site-packages\\sklearn\\metrics\\classification.py:1437: UndefinedMetricWarning: Precision and F-score are ill-defined and being set to 0.0 in labels with no predicted samples.\n",
      "  'precision', 'predicted', average, warn_for)\n"
     ]
    }
   ],
   "source": [
    "# разделим на тренировочные данные и на тестовые\n",
    "X_train, X_test, Y_train, Y_test = train_test_split(X_new_2, Y, test_size=0.2, random_state = 6)\n",
    "\n",
    "# Обучаем модель\n",
    "logistic_model.fit(X_train, Y_train);\n",
    "\n",
    "logistic_model_pred = logistic_model.predict(X_test)\n",
    "\n",
    "# Сравниваем реальные и полученные значения\n",
    "print(classification_report(Y_test, logistic_model_pred))"
   ]
  },
  {
   "cell_type": "markdown",
   "metadata": {
    "colab_type": "text",
    "id": "ZWc_9uF3PQIo"
   },
   "source": [
    "Посчитать квартили для всех колонок. "
   ]
  },
  {
   "cell_type": "code",
   "execution_count": 19,
   "metadata": {},
   "outputs": [
    {
     "data": {
      "text/html": [
       "<div>\n",
       "<style scoped>\n",
       "    .dataframe tbody tr th:only-of-type {\n",
       "        vertical-align: middle;\n",
       "    }\n",
       "\n",
       "    .dataframe tbody tr th {\n",
       "        vertical-align: top;\n",
       "    }\n",
       "\n",
       "    .dataframe thead th {\n",
       "        text-align: right;\n",
       "    }\n",
       "</style>\n",
       "<table border=\"1\" class=\"dataframe\">\n",
       "  <thead>\n",
       "    <tr style=\"text-align: right;\">\n",
       "      <th></th>\n",
       "      <th>q1_25%</th>\n",
       "      <th>q2_med</th>\n",
       "      <th>q3_75%</th>\n",
       "    </tr>\n",
       "  </thead>\n",
       "  <tbody>\n",
       "    <tr>\n",
       "      <th>Age</th>\n",
       "      <td>33.0</td>\n",
       "      <td>45.00</td>\n",
       "      <td>58.0</td>\n",
       "    </tr>\n",
       "    <tr>\n",
       "      <th>Alamine_Aminotransferase</th>\n",
       "      <td>23.0</td>\n",
       "      <td>35.00</td>\n",
       "      <td>61.0</td>\n",
       "    </tr>\n",
       "    <tr>\n",
       "      <th>Albumin</th>\n",
       "      <td>2.6</td>\n",
       "      <td>3.10</td>\n",
       "      <td>3.8</td>\n",
       "    </tr>\n",
       "    <tr>\n",
       "      <th>Albumin_and_Globulin_Ratio</th>\n",
       "      <td>0.7</td>\n",
       "      <td>0.93</td>\n",
       "      <td>1.1</td>\n",
       "    </tr>\n",
       "    <tr>\n",
       "      <th>Alkaline_Phosphotase</th>\n",
       "      <td>175.5</td>\n",
       "      <td>208.00</td>\n",
       "      <td>298.0</td>\n",
       "    </tr>\n",
       "    <tr>\n",
       "      <th>Aspartate_Aminotransferase</th>\n",
       "      <td>25.0</td>\n",
       "      <td>42.00</td>\n",
       "      <td>87.0</td>\n",
       "    </tr>\n",
       "    <tr>\n",
       "      <th>Dataset</th>\n",
       "      <td>1.0</td>\n",
       "      <td>1.00</td>\n",
       "      <td>2.0</td>\n",
       "    </tr>\n",
       "    <tr>\n",
       "      <th>Direct_Bilirubin</th>\n",
       "      <td>0.2</td>\n",
       "      <td>0.30</td>\n",
       "      <td>1.3</td>\n",
       "    </tr>\n",
       "    <tr>\n",
       "      <th>Gender_Code</th>\n",
       "      <td>1.0</td>\n",
       "      <td>1.00</td>\n",
       "      <td>1.0</td>\n",
       "    </tr>\n",
       "    <tr>\n",
       "      <th>Total_Bilirubin</th>\n",
       "      <td>0.8</td>\n",
       "      <td>1.00</td>\n",
       "      <td>2.6</td>\n",
       "    </tr>\n",
       "    <tr>\n",
       "      <th>Total_Protiens</th>\n",
       "      <td>5.8</td>\n",
       "      <td>6.60</td>\n",
       "      <td>7.2</td>\n",
       "    </tr>\n",
       "  </tbody>\n",
       "</table>\n",
       "</div>"
      ],
      "text/plain": [
       "                            q1_25%  q2_med  q3_75%\n",
       "Age                           33.0   45.00    58.0\n",
       "Alamine_Aminotransferase      23.0   35.00    61.0\n",
       "Albumin                        2.6    3.10     3.8\n",
       "Albumin_and_Globulin_Ratio     0.7    0.93     1.1\n",
       "Alkaline_Phosphotase         175.5  208.00   298.0\n",
       "Aspartate_Aminotransferase    25.0   42.00    87.0\n",
       "Dataset                        1.0    1.00     2.0\n",
       "Direct_Bilirubin               0.2    0.30     1.3\n",
       "Gender_Code                    1.0    1.00     1.0\n",
       "Total_Bilirubin                0.8    1.00     2.6\n",
       "Total_Protiens                 5.8    6.60     7.2"
      ]
     },
     "execution_count": 19,
     "metadata": {},
     "output_type": "execute_result"
    }
   ],
   "source": [
    "q = {}\n",
    "q['q1_25%'] = {}\n",
    "q['q2_med'] = {}\n",
    "q['q3_75%'] = {}\n",
    "\n",
    "for i in data.columns:\n",
    "    q['q1_25%'][i] = data[i].quantile(0.25)\n",
    "    q['q2_med'][i] = data[i].median()\n",
    "    q['q3_75%'][i] = data[i].quantile(0.75)\n",
    "    \n",
    "pd.DataFrame(q)"
   ]
  },
  {
   "cell_type": "markdown",
   "metadata": {
    "colab_type": "text",
    "id": "7kwq4rqzOoz1"
   },
   "source": [
    "Построить график histogram двух выборок по наличию или отсутствию болезни: люди, возрастом до 50 лет, и люди после 50 лет. Посчитать среднее значение и квартиль 0.5 в данных выборках. Чем они отличаются?"
   ]
  },
  {
   "cell_type": "code",
   "execution_count": 20,
   "metadata": {},
   "outputs": [
    {
     "data": {
      "image/png": "[encoded data removed]",
      "text/plain": [
       "<Figure size 432x288 with 1 Axes>"
      ]
     },
     "metadata": {
      "needs_background": "light"
     },
     "output_type": "display_data"
    }
   ],
   "source": [
    "all_people = data['Dataset']\n",
    "\n",
    "# Выборка больных / здоровых старше 50 лет\n",
    "old = data[data['Age'] >= 50 ]['Dataset']\n",
    "young = data[data['Age'] < 50 ]['Dataset']\n",
    "\n",
    "plt.title(\"Больные / здоровые по возрастным группам\")\n",
    "sns.distplot(old, bins = 5, kde = False)\n",
    "sns.distplot(young, bins = 5, kde = False)\n",
    "\n",
    "plt.xlabel('Группа')\n",
    "plt.ylabel('Количество')\n",
    "\n",
    "plt.xticks([1,2])\n",
    "\n",
    "plt.legend(['>=50', '<50'])\n",
    "plt.show()"
   ]
  },
  {
   "cell_type": "code",
   "execution_count": 21,
   "metadata": {},
   "outputs": [
    {
     "name": "stdout",
     "output_type": "stream",
     "text": [
      "Медиана для выборки людей старше 50 по группам здоровья: 1.00\n",
      "Среднее значение для выборки людей старше 50 по группам здоровья: 1.24\n",
      "Медиана для выборки людей младше 50 по группам здоровья: 1.00\n",
      "Среднее значение для выборки людей младше 50 по группам здоровья: 1.31\n"
     ]
    }
   ],
   "source": [
    "print(f'Медиана для выборки людей старше 50 по группам здоровья: {old.quantile(0.5):.2f}')\n",
    "print(f'Среднее значение для выборки людей старше 50 по группам здоровья: {old.mean():.2f}')\n",
    "print(f'Медиана для выборки людей младше 50 по группам здоровья: {young.quantile(0.5):.2f}')\n",
    "print(f'Среднее значение для выборки людей младше 50 по группам здоровья: {young.mean():.2f}')\n"
   ]
  },
  {
   "cell_type": "markdown",
   "metadata": {},
   "source": [
    "**Медианы = 1, значит больных в обеих группах больше чем здоровых. При этом пропорция больные/здоровые хуже среди более пожилых людей (т.к среднее меньше)**"
   ]
  },
  {
   "cell_type": "markdown",
   "metadata": {
    "colab_type": "text",
    "id": "QZVd-KyDQq38"
   },
   "source": [
    "\n",
    "Посчитать критерий одновыборочный t-критерий для выборки по критерию Total_Bilirubin у больных людей. Как показатель помогает понять, что выборки не похожа на генеральную совокупность?"
   ]
  },
  {
   "cell_type": "code",
   "execution_count": 22,
   "metadata": {},
   "outputs": [
    {
     "data": {
      "text/plain": [
       "Ttest_1sampResult(statistic=2.4588588880494733, pvalue=0.014347239706774866)"
      ]
     },
     "execution_count": 22,
     "metadata": {},
     "output_type": "execute_result"
    }
   ],
   "source": [
    "ill_bilirubin = data[data['Dataset']==1]['Total_Bilirubin']\n",
    "stats.ttest_1samp(ill_bilirubin, data['Total_Bilirubin'].mean())"
   ]
  },
  {
   "cell_type": "markdown",
   "metadata": {},
   "source": [
    "**P уровень значимости меньше 0,05, поэтому вероятность ошибки первого рода (принять гипотезу H1, когда верна гипотеза H0 минимальна). Отклоняем нулевую гипотезу (выборка и генеральная совокупность имеют одинаковое мат. ожидание) и принимаем H1: мат. ожидания выборки и генеральной совокупности не совпадают**"
   ]
  },
  {
   "cell_type": "code",
   "execution_count": 23,
   "metadata": {},
   "outputs": [
    {
     "data": {
      "image/png": "[encoded data removed]",
      "text/plain": [
       "<Figure size 432x288 with 1 Axes>"
      ]
     },
     "metadata": {
      "needs_background": "light"
     },
     "output_type": "display_data"
    }
   ],
   "source": [
    "total_bilirubin = data['Total_Bilirubin']\n",
    "sns.distplot(ill_bilirubin)\n",
    "sns.distplot(total_bilirubin)\n",
    "plt.title('Плотность вероятности распределения total_bilirubin')\n",
    "plt.legend(['Больные', 'Все'])\n",
    "plt.xlim(-1, 10)\n",
    "plt.show()"
   ]
  },
  {
   "cell_type": "markdown",
   "metadata": {
    "colab_type": "text",
    "id": "dI901FRqRC8A"
   },
   "source": [
    "Посчитать критерий t для двух выборок: больные и здоровые (по критерию Total_Bilirubin). Имеют ли данные группы схожесть?"
   ]
  },
  {
   "cell_type": "code",
   "execution_count": 24,
   "metadata": {},
   "outputs": [
    {
     "data": {
      "text/plain": [
       "Ttest_indResult(statistic=-5.422946004172417, pvalue=8.632557516910643e-08)"
      ]
     },
     "execution_count": 24,
     "metadata": {},
     "output_type": "execute_result"
    }
   ],
   "source": [
    "healthy_bilirubin = data[data['Dataset']==2]['Total_Bilirubin']\n",
    "stats.ttest_ind(healthy_bilirubin, ill_bilirubin)"
   ]
  },
  {
   "cell_type": "markdown",
   "metadata": {},
   "source": [
    "**P уровень значимости меньше 0,05. Отклоняем нулевую гипотезу (H0 - средние двух выборок равны). Средние двух выборок не совпадают**"
   ]
  },
  {
   "cell_type": "code",
   "execution_count": 25,
   "metadata": {},
   "outputs": [
    {
     "data": {
      "image/png": "[encoded data removed]",
      "text/plain": [
       "<Figure size 432x288 with 1 Axes>"
      ]
     },
     "metadata": {
      "needs_background": "light"
     },
     "output_type": "display_data"
    }
   ],
   "source": [
    "sns.distplot(ill_bilirubin)\n",
    "sns.distplot(healthy_bilirubin)\n",
    "plt.title('Сравнение здоровых и больных по bilirubin')\n",
    "plt.legend(['Больные', 'Здоровые'])\n",
    "plt.xlim(-1, 4)\n",
    "plt.show()"
   ]
  },
  {
   "cell_type": "markdown",
   "metadata": {
    "colab_type": "text",
    "id": "2e0YHsEqAnvv"
   },
   "source": [
    "Посчитать статистическую значимость для трех выборок (по возрасту) - 1ая группа от 1 до 30 лет, 2ая группа от 30 лет до 55, 3я группа более 55 по выборке Dataset. Сравнить с реальностью (они логично что будут отличаться)."
   ]
  },
  {
   "cell_type": "code",
   "execution_count": 26,
   "metadata": {},
   "outputs": [
    {
     "data": {
      "text/plain": [
       "F_onewayResult(statistic=8.501983516532599, pvalue=0.00022966076376701534)"
      ]
     },
     "execution_count": 26,
     "metadata": {},
     "output_type": "execute_result"
    }
   ],
   "source": [
    "one_thirty = data[data['Age'] < 31]['Dataset']\n",
    "thirty_fifty = data[(data['Age'] > 30) & (data['Age'] < 51)]['Dataset']\n",
    "fifty_plus = data[data['Age'] > 50]['Dataset']\n",
    "\n",
    "stats.f_oneway(one_thirty, thirty_fifty, fifty_plus)"
   ]
  },
  {
   "cell_type": "code",
   "execution_count": 27,
   "metadata": {},
   "outputs": [
    {
     "data": {
      "image/png": "[encoded data removed]",
      "text/plain": [
       "<Figure size 432x288 with 1 Axes>"
      ]
     },
     "metadata": {
      "needs_background": "light"
     },
     "output_type": "display_data"
    }
   ],
   "source": [
    "sns.distplot(one_thirty, kde = False, bins = 5)\n",
    "sns.distplot(thirty_fifty, kde = False, bins = 10)\n",
    "sns.distplot(fifty_plus, kde = False, bins = 15)\n",
    "plt.title('Сравнение здоровых и больных по возрастным категориям')\n",
    "plt.legend(['1-30', '31-50' , '51+'])\n",
    "plt.xlim(1, 2)\n",
    "plt.show()"
   ]
  },
  {
   "cell_type": "markdown",
   "metadata": {
    "colab_type": "text",
    "id": "Jm1ESbSRRPOP"
   },
   "source": [
    "Вопросы задавать на почту yustiks@gmail.com"
   ]
  }
 ],
 "metadata": {
  "colab": {
   "collapsed_sections": [],
   "name": "dz_3.ipynb",
   "provenance": [],
   "toc_visible": true,
   "version": "0.3.2"
  },
  "kernelspec": {
   "display_name": "Python 3",
   "language": "python",
   "name": "python3"
  },
  "language_info": {
   "codemirror_mode": {
    "name": "ipython",
    "version": 3
   },
   "file_extension": ".py",
   "mimetype": "text/x-python",
   "name": "python",
   "nbconvert_exporter": "python",
   "pygments_lexer": "ipython3",
   "version": "3.7.3"
  }
 },
 "nbformat": 4,
 "nbformat_minor": 1
}
