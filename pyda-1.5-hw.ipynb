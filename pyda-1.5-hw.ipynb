{
 "cells": [
  {
   "cell_type": "markdown",
   "metadata": {},
   "source": [
    "# Домашнее задание\n",
    "1. Переведите содержимое файла purchase_log.txt в словарь purchases вида:\n",
    "```python\n",
    "{'1840e0b9d4': 'Продукты', ...}\n",
    "```\n",
    "\n",
    "2. Для каждого user_id в файле visit_log.csv добавьте третий столбец с категорией покупки (если покупка была).\n",
    "\n",
    "3. Запишите в файл funnel.csv визиты из файла visit_log.csv, в которых были покупки с указанием категории.\n",
    "\n",
    "Учтите условия на данные:\n",
    "- содержимое purchase_log.txt помещается в оперативную память компьютера\n",
    "- содержимое visit_log.csv - нет; используйте только построчную обработку этого файла"
   ]
  },
  {
   "cell_type": "code",
   "execution_count": 37,
   "metadata": {},
   "outputs": [],
   "source": [
    "import json"
   ]
  },
  {
   "cell_type": "markdown",
   "metadata": {},
   "source": [
    "## Задание 1"
   ]
  },
  {
   "cell_type": "code",
   "execution_count": 32,
   "metadata": {},
   "outputs": [],
   "source": [
    "def purchases_dictionary():\n",
    "    with open('purchase_log.txt','r', encoding = 'utf-8') as f:\n",
    "        # Игнорируем строку заголовка\n",
    "        f.readline()\n",
    "        # Проходим по строке-словарю\n",
    "        # По условию можно использовать и readlines()\n",
    "        result_dictionary = dict()\n",
    "        for line in f:\n",
    "            dict_string = json.loads(line)\n",
    "            result_dictionary.setdefault(dict_string['user_id'],0)\n",
    "            result_dictionary[dict_string['user_id']] = dict_string['category']\n",
    "        return result_dictionary\n"
   ]
  },
  {
   "cell_type": "code",
   "execution_count": 33,
   "metadata": {},
   "outputs": [],
   "source": [
    "def present_purchases(n):   \n",
    "    result_dictionary = purchases_dictionary()\n",
    "    print(f'Размер словаря = {len(result_dictionary)} элементов') \n",
    "    i = 0\n",
    "    for key, value in result_dictionary.items():\n",
    "        print(f'{key}: {value}')\n",
    "        i += 1\n",
    "        if i >= n:\n",
    "            break     "
   ]
  },
  {
   "cell_type": "code",
   "execution_count": 34,
   "metadata": {},
   "outputs": [
    {
     "name": "stdout",
     "output_type": "stream",
     "text": [
      "Размер словаря = 99517 элементов\n",
      "1840e0b9d4: Продукты\n",
      "4e4f90fcfb: Электроника\n",
      "afea8d72fc: Электроника\n",
      "373a6055fe: Бытовая техника\n"
     ]
    }
   ],
   "source": [
    "present_purchases(4)"
   ]
  },
  {
   "cell_type": "markdown",
   "metadata": {},
   "source": [
    "## Задание 2"
   ]
  },
  {
   "cell_type": "code",
   "execution_count": 148,
   "metadata": {},
   "outputs": [],
   "source": [
    "def print_list(list_, n):\n",
    "    print(len(list_))\n",
    "    for i in range(n):\n",
    "        print(list_[i])"
   ]
  },
  {
   "cell_type": "code",
   "execution_count": 149,
   "metadata": {},
   "outputs": [],
   "source": [
    "def update_visit_log():\n",
    "    # получаем словарь покупок пользователей\n",
    "    purchases = purchases_dictionary()\n",
    "    list_of_strings = list()\n",
    "    # открываем файл на чтение\n",
    "    with open('visit_log.csv','r', encoding = 'cp1251') as f:    \n",
    "        #добавляем заголовок файла в список:\n",
    "        list_of_strings.append(f.readline().strip().split(','))\n",
    "        #Cчитываем данные из файла в список\n",
    "        for line in f:\n",
    "            user_log = line.strip().split(',')\n",
    "            if user_log[0] in purchases.keys():\n",
    "                user_log.append(purchases[user_log[0]])\n",
    "            list_of_strings.append(user_log)\n",
    "        #print_list(list_of_strings,50)\n",
    "    #Записываем данные из списка в файл\n",
    "    with open('visit_log.csv','w',encoding = 'cp1251') as f:\n",
    "        for line in list_of_strings:\n",
    "            file_string = ','.join(line)\n",
    "            f.write(file_string + '\\n')"
   ]
  },
  {
   "cell_type": "code",
   "execution_count": 150,
   "metadata": {},
   "outputs": [],
   "source": [
    "update_visit_log()"
   ]
  },
  {
   "cell_type": "code",
   "execution_count": null,
   "metadata": {},
   "outputs": [],
   "source": []
  }
 ],
 "metadata": {
  "kernelspec": {
   "display_name": "Python 3",
   "language": "python",
   "name": "python3"
  },
  "language_info": {
   "codemirror_mode": {
    "name": "ipython",
    "version": 3
   },
   "file_extension": ".py",
   "mimetype": "text/x-python",
   "name": "python",
   "nbconvert_exporter": "python",
   "pygments_lexer": "ipython3",
   "version": "3.7.3"
  }
 },
 "nbformat": 4,
 "nbformat_minor": 2
}
