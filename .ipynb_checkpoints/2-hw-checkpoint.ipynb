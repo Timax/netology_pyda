{
 "cells": [
  {
   "cell_type": "markdown",
   "metadata": {},
   "source": [
    "**ДЗ 2:**"
   ]
  },
  {
   "cell_type": "markdown",
   "metadata": {},
   "source": [
    "**Задача 1:** Дан список с визитами по городам и странам. Напишите код, который возвращает отфильтрованный список geo_logs, содержащий только визиты из России. Считайте, что список geo_logs легко помещается в оперативной памяти."
   ]
  },
  {
   "cell_type": "code",
   "execution_count": 23,
   "metadata": {},
   "outputs": [
    {
     "name": "stdout",
     "output_type": "stream",
     "text": [
      "['visit1', ['Москва', 'Россия']]\n",
      "['visit3', ['Владимир', 'Россия']]\n",
      "['visit7', ['Тула', 'Россия']]\n",
      "['visit8', ['Тула', 'Россия']]\n",
      "['visit9', ['Курск', 'Россия']]\n",
      "['visit10', ['Архангельск', 'Россия']]\n"
     ]
    }
   ],
   "source": [
    "geo_logs = [['visit1', ['Москва', 'Россия']],\n",
    "    ['visit2', ['Дели', 'Индия']],\n",
    "    ['visit3', ['Владимир', 'Россия']],\n",
    "    ['visit4', ['Лиссабон', 'Португалия']],\n",
    "    ['visit5', ['Париж', 'Франция']],\n",
    "    ['visit6', ['Лиссабон', 'Португалия']],\n",
    "    ['visit7', ['Тула', 'Россия']],\n",
    "    ['visit8', ['Тула', 'Россия']],\n",
    "    ['visit9', ['Курск', 'Россия']],\n",
    "    ['visit10', ['Архангельск', 'Россия']]\n",
    "]\n",
    "geo_logs_russia = []\n",
    "for log_elem in geo_logs:\n",
    "    if log_elem[1][1] == 'Россия':\n",
    "        geo_logs_russia.append(log_elem)\n",
    "\n",
    "for log_elem in geo_logs_russia:\n",
    "    print(log_elem)\n",
    "    "
   ]
  },
  {
   "cell_type": "markdown",
   "metadata": {},
   "source": [
    "**Задача 2:** Выведите на экран все уникальные гео-ID из списка координат ids. Т. е. список вида [213, 15, 54, 119, 98, 35]\n",
    "ids = [[‘user1’, [213, 213, 213, 15, 213]], [‘user2’, [54, 54, 119, 119, 119]], [‘user3’, [213, 98, 98, 35]]]"
   ]
  },
  {
   "cell_type": "code",
   "execution_count": 72,
   "metadata": {},
   "outputs": [
    {
     "name": "stdout",
     "output_type": "stream",
     "text": [
      "[15, 35, 54, 98, 119, 213]\n"
     ]
    }
   ],
   "source": [
    "ids = [['user1', [213, 213, 213, 15, 213]], ['user2', [54, 54, 119, 119, 119]], ['user3', [213, 98, 98, 35]]]\n",
    "only_ids = []\n",
    "for id_elem in ids:\n",
    "    for direct_id in id_elem[1]:\n",
    "        only_ids.append(direct_id)\n",
    "sorted_ids = sorted(only_ids, reverse = False)\n",
    "i = 0\n",
    "while i < len(sorted_ids):\n",
    "    if sorted_ids.count(sorted_ids[i]) > 1:\n",
    "        del(sorted_ids[i])\n",
    "    else:\n",
    "        i+=1\n",
    "print(sorted_ids)"
   ]
  }
 ],
 "metadata": {
  "kernelspec": {
   "display_name": "Python 3",
   "language": "python",
   "name": "python3"
  },
  "language_info": {
   "codemirror_mode": {
    "name": "ipython",
    "version": 3
   },
   "file_extension": ".py",
   "mimetype": "text/x-python",
   "name": "python",
   "nbconvert_exporter": "python",
   "pygments_lexer": "ipython3",
   "version": "3.7.3"
  }
 },
 "nbformat": 4,
 "nbformat_minor": 2
}
