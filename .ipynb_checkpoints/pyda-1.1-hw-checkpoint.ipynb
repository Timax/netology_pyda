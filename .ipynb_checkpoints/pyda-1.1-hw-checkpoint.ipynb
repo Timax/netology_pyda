{
 "cells": [
  {
   "cell_type": "markdown",
   "metadata": {},
   "source": [
    "**Задание 1**. Даны 2 строки: *long_phrase* и *short_phrase*. \n",
    "Напишите код, который проверяет действительно ли длинная фраза *long_phrase* длиннее короткой *short_phrase*. И выводит *True* или *False* в зависимости от результата сравнения."
   ]
  },
  {
   "cell_type": "code",
   "execution_count": 1,
   "metadata": {},
   "outputs": [],
   "source": [
    "long_phrase = 'Насколько проще было бы писать программы, если бы не заказчики'\n",
    "short_phrase = '640Кб должно хватить для любых задач. Билл Гейтс (по легенде)'"
   ]
  },
  {
   "cell_type": "code",
   "execution_count": 10,
   "metadata": {},
   "outputs": [
    {
     "name": "stdout",
     "output_type": "stream",
     "text": [
      "Введите первую строку: Кот\n",
      "Введите вторую строку: Собака\n",
      "Первая длиннее второй?  False\n"
     ]
    }
   ],
   "source": [
    "user_input_long_phrase = input('Введите первую строку: ')\n",
    "user_input_short_phrase = input('Введите вторую строку: ')\n",
    "print('Первая длиннее второй? ', len(user_input_long_phrase) > len(user_input_short_phrase))"
   ]
  },
  {
   "cell_type": "markdown",
   "metadata": {},
   "source": [
    "**Задание 2**. Дано значение объема файла в байтах. Напишите перевод этого значения в мегабайты в формате: \"*Объем файла равен 213.68Mb*\""
   ]
  },
  {
   "cell_type": "code",
   "execution_count": 16,
   "metadata": {},
   "outputs": [
    {
     "name": "stdout",
     "output_type": "stream",
     "text": [
      "Введите размер файла в байтах: 3241235\n",
      "Объем файла равен 3.09Mb\n"
     ]
    }
   ],
   "source": [
    "user_input_file_size_in_bites = input('Введите размер файла в байтах: ')\n",
    "try:\n",
    "    # попытка преобразования пользовательской строки в мегабайты\n",
    "    file_size_in_bites = round(int(user_input_file_size_in_bites) / 1024 / 1024, 2)    \n",
    "    output = ('Объем файла равен ' + str(file_size_in_bites) + 'Mb') \n",
    "    print(output)\n",
    "except: \n",
    "    print ('Ошибка. Размер файла должен быть представлен числом')"
   ]
  },
  {
   "cell_type": "markdown",
   "metadata": {},
   "source": [
    "**Задание 3**. Разработать приложение для определения знака зодиака по дате рождения. Пример:\n",
    "\n",
    "Введите месяц: март\n",
    "\n",
    "Введите число: 6\n",
    "\n",
    "Вывод:\n",
    "Рыбы"
   ]
  },
  {
   "cell_type": "code",
   "execution_count": 29,
   "metadata": {},
   "outputs": [
    {
     "name": "stdout",
     "output_type": "stream",
     "text": [
      "Введите месяц: февраль\n",
      "Введите число: 29\n",
      "Вывод:\n",
      "Рыбы\n"
     ]
    }
   ],
   "source": [
    "# списки и словари для вводимых параметров\n",
    "month_list = ['январь', 'февраль','март','апрель','май','июнь','июль','август','сентябрь','октябрь','ноябрь','декабрь']\n",
    "month_converter = {\n",
    "    'январь': 1,\n",
    "    'февраль': 2,\n",
    "    'март': 3,\n",
    "    'апрель': 4,\n",
    "    'май': 5,\n",
    "    'июнь': 6,\n",
    "    'июль': 7,\n",
    "    'август': 8,\n",
    "    'сентябрь': 9,\n",
    "    'октябрь': 10,\n",
    "    'ноябрь': 11,\n",
    "    'декабрь': 12,\n",
    "}\n",
    "# переменные ввода месяца и числа пользователем\n",
    "user_input_month = input('Введите месяц: ')\n",
    "user_input_date = input('Введите число: ')\n",
    "if user_input_month in month_list:\n",
    "    month_number = month_converter[user_input_month]\n",
    "    # определение максимальной даты в рамках месяца\n",
    "    if month_number in [1,3,5,7,8,10,12]:\n",
    "        max_date = 31\n",
    "    elif month_number in [4,6,9,11]:\n",
    "        max_date = 30\n",
    "    elif month_number == 2:\n",
    "        max_date = 29            \n",
    "    if (max_date >= int(user_input_date) > 0):\n",
    "    #определение знака зодиака\n",
    "        zodiac_num = 100 * month_number + int(user_input_date)\n",
    "        if 420 > zodiac_num > 320:\n",
    "            zodiac = 'Овен'\n",
    "        elif 521 > zodiac_num > 419:\n",
    "            zodiac = 'Телец'\n",
    "        elif 622 > zodiac_num > 520:\n",
    "            zodiac = 'Близнецы'\n",
    "        elif 723 > zodiac_num > 621:\n",
    "            zodiac = 'Рак'\n",
    "        elif 823 > zodiac_num > 722:\n",
    "            zodiac = 'Лев'\n",
    "        elif 923 > zodiac_num > 822:\n",
    "            zodiac = 'Дева'    \n",
    "        elif 1023 > zodiac_num > 922:\n",
    "            zodiac = 'Весы'    \n",
    "        elif 1122 > zodiac_num > 1022:\n",
    "            zodiac = 'Скорпион'   \n",
    "        elif 1222 > zodiac_num > 1121:\n",
    "            zodiac = 'Стрелец'   \n",
    "        elif 219 > zodiac_num > 119:\n",
    "            zodiac = 'Водолей'\n",
    "        elif 321 > zodiac_num > 218:\n",
    "            zodiac = 'Рыбы'\n",
    "        else:\n",
    "            zodiac = 'Козерог'\n",
    "        print('Вывод:')\n",
    "        print(zodiac)\n",
    "    else:\n",
    "        print('Число указано неверно')\n",
    "else:\n",
    "    print('Месяц указан неверно')\n"
   ]
  },
  {
   "cell_type": "markdown",
   "metadata": {},
   "source": [
    "**Задание 4**. Нужно разработать приложение для финансового планирования.\n",
    "Приложение учитывает сколько уходит на ипотеку, \"на жизнь\" и сколько нужно отложить на пенсию.\n",
    "Пользователь вводит:\n",
    "- заработанную плату в месяц.\n",
    "- сколько процентов от ЗП уходит на ипотеку.\n",
    "- сколько процентов от ЗП уходит \"на жизнь\".\n",
    "- сколько раз приходит премия в год.\n",
    "\n",
    "Остальная часть заработанной платы откладывается на пенсию.\n",
    "\n",
    "Также пользователю приходит премия в размере зарплаты, от которой половина уходит на отпуск, а вторая половина откладывается.\n",
    "\n",
    "Программа должна учитывать сколько премий было в год.\n",
    "\n",
    "Нужно вывести сколько денег тратит пользователь на ипотеку и сколько он накопит за год.\n",
    "\n",
    "Пример:\n",
    "\n",
    "Введите заработанную плату в месяц: 100000\n",
    "\n",
    "Введите сколько процентов уходит на ипотеку: 30\n",
    "\n",
    "Введите сколько процентов уходит на жизнь: 50\n",
    "\n",
    "Введите количество премий за год: 2\n",
    "\n",
    "Вывод:\n",
    "На ипотеку было потрачено: 360000 рублей\n",
    "Было накоплено: 340000 рублей"
   ]
  },
  {
   "cell_type": "code",
   "execution_count": 55,
   "metadata": {},
   "outputs": [
    {
     "name": "stdout",
     "output_type": "stream",
     "text": [
      "Введите месячную зп: 135000\n",
      "Сколько процентов ЗП уходит на ипотеку? 0\n",
      "Сколько процентов ЗП уходит на жизнь? 30\n",
      "Сколько раз приходит премия в год? 6\n",
      "Вывод: На ипотеку было подтрачено:  0.0 рублей. Было накоплено:  1539000.0  рублей\n"
     ]
    }
   ],
   "source": [
    "# Ввод данных\n",
    "\n",
    "user_month_salary_input = input('Введите месячную зп: ')\n",
    "user_mortgage_percent_input = input('Сколько процентов ЗП уходит на ипотеку? ')\n",
    "user_life_percent_input = input('Сколько процентов ЗП уходит на жизнь? ')\n",
    "user_annual_award_count_input = input('Сколько раз приходит премия в год? ')\n",
    "\n",
    "# Проверка \n",
    "if  user_month_salary_input.isdigit() and 0 < int(user_month_salary_input):\n",
    "    # Зарплата представлена положительным числом\n",
    "    user_month_salary = int(user_month_salary_input)\n",
    "    \n",
    "    if user_mortgage_percent_input.isdigit() and 0 <= int(user_mortgage_percent_input) <=100 :\n",
    "        # Процент по ипотеке указан корректно\n",
    "        user_mortgage_percent = int(user_mortgage_percent_input)\n",
    "        # Считаем сколько уходит на ипотеку в год :-(\n",
    "        anual_mortgage_amount = round(user_month_salary * 12 * user_mortgage_percent / 100,2)\n",
    "        if 0 <= user_life_percent_input.isdigit() and int(user_life_percent_input) <= 100:\n",
    "            # Процент на жизнь указан корректно\n",
    "            user_life_percent = int(user_life_percent_input)\n",
    "            if user_life_percent + user_mortgage_percent <= 100:    \n",
    "                # Процент на жизнь и на ипотеку не превышает 100, то cчитаем накопления за год без учета премий\n",
    "                accumulated_funds_per_year = (user_month_salary - \\\n",
    "                user_month_salary * (user_life_percent + user_mortgage_percent)/ 100) * 12\n",
    "                if user_annual_award_count_input.isdigit() and int(user_annual_award_count_input) >= 0:\n",
    "                    # Количество премий указно верно\n",
    "                    user_annual_award_count = int(user_annual_award_count_input)\n",
    "                    # Сумма премий за год\n",
    "                    accumulated_funds_per_year_award = user_annual_award_count * user_month_salary / 2\n",
    "                    # Итоговые накопления за год\n",
    "                    accumulated_funds_result_per_year = accumulated_funds_per_year_award + accumulated_funds_per_year\n",
    "                    # Результат\n",
    "                    print('Вывод: На ипотеку было подтрачено: ', anual_mortgage_amount, 'рублей. Было накоплено: ', \\\n",
    "                          accumulated_funds_result_per_year, ' рублей')\n",
    "                else:\n",
    "                    print('Неверно указано количество премий')\n",
    "            else:\n",
    "                print('Жить не на что')            \n",
    "        else: \n",
    "            print('Процент на \\'жизнь\\'указан некорректно')\n",
    "    else: \n",
    "        print('Процент расходов на ипотеку указан некорректно')\n",
    "else:\n",
    "    print('Зарплата указана некорректно')"
   ]
  },
  {
   "cell_type": "markdown",
   "metadata": {},
   "source": [
    "**Дополнительная задача №1** FIZZ BUZZ"
   ]
  },
  {
   "cell_type": "code",
   "execution_count": 10,
   "metadata": {},
   "outputs": [
    {
     "name": "stdout",
     "output_type": "stream",
     "text": [
      "Введите количество элементов, которое необходимо вывести на экран. n= 15\n",
      "[1, 2, 'Fizz', 4, 'Buzz', 'Fizz', 7, 8, 'Fizz', 'Buzz', 11, 'Fizz', 13, 14, 'Fizz Buzz', 16, 17, 'Fizz', 19, 'Buzz', 'Fizz', 22, 23, 'Fizz', 'Buzz', 26, 'Fizz', 28, 29, 'Fizz Buzz', 31, 32, 'Fizz']\n"
     ]
    }
   ],
   "source": [
    "user_input = input('Введите количество элементов, которое необходимо вывести на экран. n= ')\n",
    "if user_input.isdigit():\n",
    "    n = int(user_input)\n",
    "    list = []  # список для вывода  \n",
    "    i = 0  # счетчик чисел\n",
    "    j = 0  # счетчик чисел Fizz Buzz\n",
    "    while j < n:\n",
    "        i+=1\n",
    "        if i % 3 == 0 and i % 5 == 0:\n",
    "            list.append('Fizz Buzz')\n",
    "            j+=1\n",
    "        elif i % 3 == 0 and i % 5 != 0:\n",
    "            list.append('Fizz')\n",
    "            j+=1\n",
    "        elif i % 3 !=0 and i % 5 == 0:\n",
    "            list.append('Buzz')\n",
    "            j+=1\n",
    "        else:\n",
    "            list.append(i)       \n",
    "    print(list)    \n",
    "else:\n",
    "    print('Ошибка ввода')"
   ]
  },
  {
   "cell_type": "markdown",
   "metadata": {},
   "source": [
    "**Дополнительная задача №2** датчик сигнала"
   ]
  },
  {
   "cell_type": "code",
   "execution_count": 76,
   "metadata": {},
   "outputs": [
    {
     "name": "stdout",
     "output_type": "stream",
     "text": [
      "Периодичность сигнала n = 13\n",
      "Cигнал:  1101110111011\n"
     ]
    }
   ],
   "source": [
    "signal_row = '11011101110111101110111011110111011101111011101110111101110111011110111011101111011101110111101110111011'\n",
    "step = 4\n",
    "flag = False # флаг, что шаг найден\n",
    "\n",
    "while flag == False and step < 1000:    \n",
    "    list = [] # список, используемый для проверки совпадения последовательностей\n",
    "    pos = 0 # начальная позиция в строке\n",
    "    sequence = True # флаг проверки, что соседние элементы списка совпадают\n",
    "    while sequence == True and pos < len(signal_row):\n",
    "        list.append(signal_row[pos:pos+step])\n",
    "        # Если элемент первый или совпадает с предыдущим, то проверка пройдена\n",
    "        if pos == 0 or list[pos // step] == list[pos // step -  1]:\n",
    "            pos+=step\n",
    "            sequence = True\n",
    "        # Иначе проверка не пройдена. Очищаем список и переходим к проверке большей длины шага. \n",
    "        elif list[pos // step] != list[pos // step -  1]:\n",
    "            list.clear()\n",
    "            step+=1        \n",
    "            sequence = False\n",
    "    if sequence == True:\n",
    "        flag = True\n",
    "print('Периодичность сигнала n =',step)\n",
    "print('Cигнал: ', list[0])\n"
   ]
  },
  {
   "cell_type": "markdown",
   "metadata": {},
   "source": [
    "**Дополнительная задача №3** буква из середины"
   ]
  },
  {
   "cell_type": "code",
   "execution_count": 82,
   "metadata": {},
   "outputs": [
    {
     "name": "stdout",
     "output_type": "stream",
     "text": [
      "Введите строку: 123456789\n",
      "5\n"
     ]
    }
   ],
   "source": [
    "user_input = input('Введите строку: ')\n",
    "n = len(user_input)\n",
    "if n % 2 == 0:\n",
    "    print(user_input[n // 2-1: n // 2 + 1 ])\n",
    "else:\n",
    "    print(user_input[n // 2])"
   ]
  }
 ],
 "metadata": {
  "kernelspec": {
   "display_name": "Python 3",
   "language": "python",
   "name": "python3"
  },
  "language_info": {
   "codemirror_mode": {
    "name": "ipython",
    "version": 3
   },
   "file_extension": ".py",
   "mimetype": "text/x-python",
   "name": "python",
   "nbconvert_exporter": "python",
   "pygments_lexer": "ipython3",
   "version": "3.7.3"
  }
 },
 "nbformat": 4,
 "nbformat_minor": 2
}
