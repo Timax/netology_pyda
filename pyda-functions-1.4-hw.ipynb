{
 "cells": [
  {
   "cell_type": "markdown",
   "metadata": {},
   "source": [
    "# Задание к лекции \"Функции\".\n",
    "Для зачета необходимо правильно выполнить 4 заданий из 6.  \n",
    "Для зачета с отличием – все 6."
   ]
  },
  {
   "cell_type": "markdown",
   "metadata": {},
   "source": [
    "## Задание 1"
   ]
  },
  {
   "cell_type": "markdown",
   "metadata": {},
   "source": [
    "Дан список вида:"
   ]
  },
  {
   "cell_type": "code",
   "execution_count": null,
   "metadata": {},
   "outputs": [],
   "source": [
    "data = [\n",
    "    [13, 25, 23, 34],\n",
    "    [45, 32, 44, 47],\n",
    "    [12, 33, 23, 95],\n",
    "    [13, 53, 34, 35]\n",
    "]"
   ]
  },
  {
   "cell_type": "markdown",
   "metadata": {},
   "source": [
    "Напишите функцию, которая возвращает сумму элементов на диагонали. Т. е. 13+32+23+35.  \n",
    "Список может быть любой длины, но всегда является \"квадратным\" (количество элементов во вложенных списках равно их количеству)."
   ]
  },
  {
   "cell_type": "code",
   "execution_count": null,
   "metadata": {},
   "outputs": [],
   "source": [
    "def diag_sum(quad_list):\n",
    "    \"\"\"\n",
    "    Подсчет суммы элиментов на диагонали квадратной матрицы\n",
    "    \"\"\"\n",
    "    result = 0\n",
    "    for i in range(0, len(quad_list)):\n",
    "        result += quad_list[i][i]\n",
    "    return result\n",
    "diag_sum(data)\n",
    "    "
   ]
  },
  {
   "cell_type": "markdown",
   "metadata": {},
   "source": [
    "## Задание 2"
   ]
  },
  {
   "cell_type": "markdown",
   "metadata": {},
   "source": [
    "Напишите функцию, возвращающую сумму первых n чисел Фибоначчи (для этого вам может понадобится ознакомиться с рекурсией)."
   ]
  },
  {
   "cell_type": "code",
   "execution_count": null,
   "metadata": {},
   "outputs": [],
   "source": [
    "def fib_sum(n):\n",
    "    \"\"\"\n",
    "    Сумма первых n чисел Фиббоначи \n",
    "    \"\"\"\n",
    "    if n == 0:\n",
    "        return 0\n",
    "    elif n == 1:\n",
    "        return 1\n",
    "    else:\n",
    "        return fib_sum(n-1) + fib_sum(n-2)\n",
    "n_range = input(\"Введите кол-во отображаемы элементов: \")\n",
    "print(tuple(enumerate(tuple(map(fib_sum, range(0, int(n_range)))),1)))"
   ]
  },
  {
   "cell_type": "markdown",
   "metadata": {},
   "source": [
    "## Задание 3"
   ]
  },
  {
   "cell_type": "code",
   "execution_count": null,
   "metadata": {},
   "outputs": [],
   "source": [
    "cook_book = {\n",
    "  'салат': [\n",
    "     {'ingridient_name': 'сыр', 'quantity': 50, 'measure': 'гр'},\n",
    "     {'ingridient_name': 'томаты', 'quantity': 20, 'measure': 'гр'},\n",
    "     {'ingridient_name': 'огурцы', 'quantity': 20, 'measure': 'гр'},\n",
    "     {'ingridient_name': 'маслины', 'quantity': 10, 'measure': 'гр'},\n",
    "     {'ingridient_name': 'оливковое масло', 'quantity': 20, 'measure': 'мл'},\n",
    "     {'ingridient_name': 'салат', 'quantity': 10, 'measure': 'гр'},\n",
    "     {'ingridient_name': 'перец', 'quantity': 20, 'measure': 'гр'}\n",
    "    ],\n",
    "  'пицца': [\n",
    "     {'ingridient_name': 'сыр', 'quantity': 20, 'measure': 'гр'},\n",
    "     {'ingridient_name': 'колбаса', 'quantity': 30, 'measure': 'гр'},\n",
    "     {'ingridient_name': 'бекон', 'quantity': 30, 'measure': 'гр'},\n",
    "     {'ingridient_name': 'оливки', 'quantity': 10, 'measure': 'гр'},\n",
    "     {'ingridient_name': 'томаты', 'quantity': 20, 'measure': 'гр'},\n",
    "     {'ingridient_name': 'тесто', 'quantity': 100, 'measure': 'гр'},   \n",
    "    ],\n",
    "  'лимонад': [\n",
    "     {'ingridient_name': 'лимон', 'quantity': 1, 'measure': 'шт'},\n",
    "     {'ingridient_name': 'вода', 'quantity': 200, 'measure': 'мл'},\n",
    "     {'ingridient_name': 'сахар', 'quantity': 10, 'measure': 'гр'},\n",
    "     {'ingridient_name': 'лайм', 'quantity': 20, 'measure': 'гр'},    \n",
    "    ]\n",
    "}"
   ]
  },
  {
   "cell_type": "markdown",
   "metadata": {},
   "source": [
    "Напишите программу (она может состоять из нескольких функций), которая будет запрашивать у пользователя количество гостей и список блюд, которые будут подаваться каждому гостю. В результате программа должна выдавать список покупок, состоящий из ингредиентов, которые нужно купить в магазине (если ингредиенты повторяются, то их нужно записать одной строкой, а не отдельно).\n",
    "\n",
    "Пример:\n",
    "\n",
    "вызов\\_главной\\_функций()\n",
    "\n",
    "Введите количество гостей: 3  \n",
    "Введите блюда через пробел: пицца пицца лимонад\n",
    "\n",
    "Список покупок:  \n",
    "сыр 120 гр  \n",
    "колбаса 180 гр  \n",
    "бекон 180 гр  \n",
    "оливки 60 гр  \n",
    "томаты 120 гр  \n",
    "тесто 600 гр  \n",
    "лимон 3 шт  \n",
    "вода 600 мл  \n",
    "сахар 30 гр  \n",
    "лайм 60 гр  "
   ]
  },
  {
   "cell_type": "code",
   "execution_count": null,
   "metadata": {},
   "outputs": [],
   "source": [
    "def user_input_check(): \n",
    "    \"\"\"\n",
    "    Проверка введенных данных\n",
    "    \"\"\"\n",
    "    # Проверка корректного ввода числа гостей\n",
    "    input_guests_flag = False  \n",
    "    while input_guests_flag == False:\n",
    "        guests_amount = input('Введите количество гостей: ')\n",
    "        try:\n",
    "            int(guests_amount)\n",
    "            if int(guests_amount) <= 0:\n",
    "                print('Число должно быть положительным:')\n",
    "            else:\n",
    "                input_guests_flag = True\n",
    "        except ValueError:\n",
    "            print('Количество гостей должно быть представлено целым числом')\n",
    "    \n",
    "    # Проверка корректного ввода блюд\n",
    "    input_dish_flag = False\n",
    "    while input_dish_flag == False:\n",
    "        dishes_input = input('Введите блюда через пробел:')\n",
    "        dish_list = dishes_input.strip().split(' ')\n",
    "        check_dish_list_elem = True\n",
    "        for elem in dish_list:\n",
    "            if elem not in ('салат', 'пицца', 'лимонад'):\n",
    "                check_dish_list_elem = False\n",
    "                print('Ввод блюд некорректен')\n",
    "                break\n",
    "        if check_dish_list_elem == True:\n",
    "            input_dish_flag = True\n",
    "    \n",
    "    # Кортеж с корректным вводом на выход функции\n",
    "    result_tuple = ()\n",
    "    result_tuple = (int(guests_amount),dish_list)\n",
    "    return result_tuple"
   ]
  },
  {
   "cell_type": "code",
   "execution_count": null,
   "metadata": {},
   "outputs": [],
   "source": [
    "def buy_dictionary_calculation(cook_book,input_tuple):\n",
    "    \"\"\"\n",
    "    Расчет списка покупок по входным данным и книге повара\n",
    "    \"\"\"\n",
    "    # Количество гостей из входного кортежа\n",
    "    num_guests = input_tuple[0]\n",
    "    # Блюда из входного кортежа (считаем количество каждого) кладем в словарь блюд вида {'пицца' : 3, 'салат' : 1}\n",
    "    list_of_dishes = input_tuple[1]\n",
    "    dict_dishes = dict()    \n",
    "    for i in list_of_dishes:\n",
    "        dict_dishes.setdefault(i,0)\n",
    "        dict_dishes[i] += 1\n",
    "    #Формируем словарь покупок\n",
    "    buy_list = dict()\n",
    "    # Ищем рецепт для пиццы, салата, лимонада\n",
    "    for key, value in dict_dishes.items():\n",
    "        # Берем рецепт из книги повара\n",
    "        ingredient_list = cook_book[key]\n",
    "        # Проходим по рецепту\n",
    "        for line in ingredient_list: \n",
    "            ingredient = line['ingridient_name']\n",
    "            quantity = line['quantity']\n",
    "            measure = line['measure']\n",
    "            # Формируем ключ по ингредиенту и измерению (на всякий случай)\n",
    "            ingredient_measure_tuple_key = ()\n",
    "            ingredient_measure_tuple_key = (ingredient, measure)\n",
    "            buy_list.setdefault(ingredient_measure_tuple_key,0)\n",
    "            # Определяем кол-во ингредиента по: кол-ву из книги повара для ингредиента * на кол-во гостей * на кол-во блюд на человек \n",
    "            buy_list[ingredient_measure_tuple_key] += quantity*num_guests*value\n",
    "    return buy_list"
   ]
  },
  {
   "cell_type": "code",
   "execution_count": null,
   "metadata": {},
   "outputs": [],
   "source": [
    "def present_info(buy_dictionary):\n",
    "    \"\"\"\n",
    "    Отображение списка покупок\n",
    "    \"\"\"\n",
    "    print('Список покупок:')\n",
    "    for key, value in buy_dictionary.items():\n",
    "        print(key[0], value, key[1])"
   ]
  },
  {
   "cell_type": "code",
   "execution_count": null,
   "metadata": {},
   "outputs": [],
   "source": [
    "def main():\n",
    "    input_tuple = user_input_check()\n",
    "    buy_dictionary = buy_dictionary_calculation(cook_book, input_tuple)\n",
    "    present_info(buy_dictionary)"
   ]
  },
  {
   "cell_type": "code",
   "execution_count": null,
   "metadata": {},
   "outputs": [],
   "source": [
    "main()"
   ]
  },
  {
   "cell_type": "markdown",
   "metadata": {},
   "source": [
    "## Задание 4"
   ]
  },
  {
   "cell_type": "markdown",
   "metadata": {},
   "source": [
    "Вы работаете секретарем и вам постоянно приходят различные документы. Вы должны быть очень внимательны, чтобы не потерять ни один документ. Каталог документов хранится в следующем виде:"
   ]
  },
  {
   "cell_type": "code",
   "execution_count": 1,
   "metadata": {},
   "outputs": [],
   "source": [
    "documents = [\n",
    "    {'type': 'passport', 'number': '2207 876234', 'name': 'Василий Гупкин'},\n",
    "    {'type': 'invoice', 'number': '11-2', 'name': 'Геннадий Покемонов'},\n",
    "    {'type': 'insurance', 'number': '10006', 'name': 'Аристарх Павлов'}\n",
    "]"
   ]
  },
  {
   "cell_type": "markdown",
   "metadata": {},
   "source": [
    "Перечень полок, на которых находятся документы хранится в следующем виде:"
   ]
  },
  {
   "cell_type": "code",
   "execution_count": 2,
   "metadata": {},
   "outputs": [],
   "source": [
    "directories = {\n",
    "    '1': ['2207 876234', '11-2', '5455 028765'],\n",
    "    '2': ['10006', '5400 028765', '5455 002299'],\n",
    "    '3': []\n",
    "}"
   ]
  },
  {
   "cell_type": "markdown",
   "metadata": {},
   "source": [
    "Необходимо реализовать пользовательские команды (внимание! это не название функций, которые должны быть выразительными, а команды, которые вводит пользователь, чтобы получить необходимый результат):\n",
    "  \n",
    "- p – people – команда, которая спросит номер документа и выведет имя человека, которому он принадлежит;  \n",
    "- s – shelf – команда, которая спросит номер документа и выведет номер полки, на которой он находится  \n",
    "Правильно обработайте ситуацию, когда пользователь будет вводить несуществующий документ."
   ]
  },
  {
   "cell_type": "code",
   "execution_count": 7,
   "metadata": {},
   "outputs": [],
   "source": [
    "def p_command():\n",
    "    \"\"\"\n",
    "    p – people – команда, которая спросит номер документа и выведет имя человека, которому он принадлежит\n",
    "    \"\"\"\n",
    "    user_input = input('Введите, пожалуйста, номер документа:')  \n",
    "    user_name = 'По такому номеру документа человек не найден'\n",
    "    for document in documents:\n",
    "        if document['number'] == user_input:\n",
    "            user_name = document['name']\n",
    "            break\n",
    "    print(user_name)"
   ]
  },
  {
   "cell_type": "code",
   "execution_count": 6,
   "metadata": {},
   "outputs": [],
   "source": [
    "def s_command():\n",
    "    \"\"\"\n",
    "    s – shelf – команда, которая спросит номер документа и выведет номер полки, на которой он находится\n",
    "    \"\"\"\n",
    "    user_input = input('Введите, пожалуйста, номер документа:')  \n",
    "    shelf_number = 'Для такого номера документа полка не указана'\n",
    "    shelf_found = False\n",
    "    for key, value in directories.items():\n",
    "        document_list = value\n",
    "        for number in document_list:\n",
    "            if number == user_input:\n",
    "                shelf_number = 'Полка #' + key\n",
    "                shelf_found = True\n",
    "                break\n",
    "        if shelf_found == True:\n",
    "            break\n",
    "    print(shelf_number)"
   ]
  },
  {
   "cell_type": "code",
   "execution_count": 15,
   "metadata": {},
   "outputs": [],
   "source": [
    "def command_line(command):\n",
    "    \"\"\"\n",
    "    Проверка введенной команды\n",
    "    \"\"\"\n",
    "    if command == 'p':\n",
    "        p_command()\n",
    "    elif command == 's':\n",
    "        s_command()\n",
    "    elif command == 'l':\n",
    "        l_command()\n",
    "    elif command == 'as':\n",
    "        as_command()\n",
    "    elif command == 'd':\n",
    "        d_command()\n",
    "    elif command == 'm':\n",
    "        m_command()\n",
    "    elif command == 'a':\n",
    "        a_command()\n",
    "    else:\n",
    "        print('Ошибка ввода. Команда  \\'', command,'\\'',' не распознана')"
   ]
  },
  {
   "cell_type": "code",
   "execution_count": 3,
   "metadata": {},
   "outputs": [],
   "source": [
    "def main():\n",
    "    user_input = input('Введите команду: ')\n",
    "    command_line(user_input)"
   ]
  },
  {
   "cell_type": "code",
   "execution_count": 31,
   "metadata": {},
   "outputs": [
    {
     "name": "stdout",
     "output_type": "stream",
     "text": [
      "Введите команду: m\n",
      "Введите, пожалуйста, номер документа:123\n",
      "Введите, пожалуйста, целевую полку:2\n",
      "Документ: 123 перемещен на полку #2\n"
     ]
    }
   ],
   "source": [
    "main()"
   ]
  },
  {
   "cell_type": "markdown",
   "metadata": {},
   "source": [
    "## Задание 5"
   ]
  },
  {
   "cell_type": "markdown",
   "metadata": {},
   "source": [
    "К условию из задания 5 реализуйте следующие команды:\n",
    "  \n",
    "- l – list – команда, которая выведет список всех документов в формате   \n",
    "**passport \"2207 876234\" \"Василий Гупкин\"**  \n",
    "- as – add shelf – команда, которая спросит номер новой полки и добавит ее в перечень"
   ]
  },
  {
   "cell_type": "code",
   "execution_count": 9,
   "metadata": {},
   "outputs": [],
   "source": [
    "# Вызывается из main() внизу четвертой задачи\n",
    "def l_command():\n",
    "    \"\"\"\n",
    "    l – list – команда, которая выведет список всех документов в формате   \n",
    "    passport \"2207 876234\" \"Василий Гупкин\"\n",
    "    \"\"\"\n",
    "    for document in documents:\n",
    "        string = document['type']+' \"'+document['number']+'\" \"'+document['name']+'\"'\n",
    "        print(string)"
   ]
  },
  {
   "cell_type": "code",
   "execution_count": 10,
   "metadata": {},
   "outputs": [],
   "source": [
    "# Вызывается из main() внизу четвертой задачи\n",
    "def as_command():\n",
    "    \"\"\"\n",
    "    as – add shelf – команда, которая спросит номер новой полки и добавит ее в перечень\n",
    "    \"\"\"\n",
    "    user_input = input('Введите, пожалуйста, номер новой полки:')  \n",
    "    try:\n",
    "        int(user_input)\n",
    "        if int(user_input) <= 0:\n",
    "            print('Номер полки должен быть положительным:')\n",
    "        else:\n",
    "            if directories.get(user_input) == None:\n",
    "                directories.setdefault(user_input,[])\n",
    "            else:\n",
    "                print('Такая полка уже существует')\n",
    "    except ValueError:\n",
    "        print('Номер полки должен быть представлен целым числом')"
   ]
  },
  {
   "cell_type": "markdown",
   "metadata": {},
   "source": [
    "## Задание 6"
   ]
  },
  {
   "cell_type": "markdown",
   "metadata": {},
   "source": [
    "К условию из задания 5 реализуйте следующие команды:  \n",
    "  \n",
    "- d – delete – команда, которая спросит номер документа и удалит его из каталога и из перечня полок. Предусмотрите сценарий, когда пользователь вводит несуществующий документ;  \n",
    "- m – move – команда, которая спросит номер документа и целевую полку и переместит его с текущей полки на целевую. Корректно обработайте кейсы, когда пользователь пытается переместить несуществующий документ или переместить документ на несуществующую полку;  \n",
    "- a – add – команда, которая добавит новый документ в каталог и в перечень полок, спросив его номер, тип, имя владельца и номер полки, на котором он будет храниться."
   ]
  },
  {
   "cell_type": "code",
   "execution_count": null,
   "metadata": {},
   "outputs": [],
   "source": [
    "# Вызывается из main() внизу четвертой задачи\n",
    "def d_command():\n",
    "    \"\"\"\n",
    "    d – delete – команда, которая спросит номер документа и удалит его из каталога и из перечня полок\n",
    "    \"\"\"\n",
    "    user_input = input('Введите, пожалуйста, номер документа:')  \n",
    "    for document in documents:\n",
    "        if document['number'] == user_input:\n",
    "            document_number = document['number']\n",
    "            # Удаляем из перечня документов\n",
    "            documents.remove(document)\n",
    "            for key, value in directories.items():\n",
    "                # Провереям наличие на полке и если документ есть, то удаляем\n",
    "                if document_number in value:\n",
    "                    value.remove(document_number)\n",
    "            return  \n",
    "    print('По такому номеру документ не найден')"
   ]
  },
  {
   "cell_type": "code",
   "execution_count": 11,
   "metadata": {},
   "outputs": [],
   "source": [
    "# Вызывается из main() внизу четвертой задачи\n",
    "def m_command():\n",
    "    \"\"\"\n",
    "    m – move – команда, которая спросит номер документа и целевую полку и переместит его с текущей полки на целевую\n",
    "    \"\"\"\n",
    "    user_input_number = input('Введите, пожалуйста, номер документа:')  \n",
    "    document_number = None\n",
    "    for document in documents:\n",
    "        if document['number'] == user_input_number:\n",
    "            document_number = document['number']\n",
    "    if document_number == None:\n",
    "        return print('По такому номеру документ не найден')\n",
    "    user_input_shelf = input('Введите, пожалуйста, целевую полку:')  \n",
    "    try:\n",
    "        int(user_input_shelf)\n",
    "        if int(user_input_shelf) <= 0:\n",
    "            print('Номер полки должен быть положительным:')\n",
    "        else:\n",
    "            if directories.get(user_input_shelf) == None:\n",
    "                print('Такая полка не существует')\n",
    "            else:\n",
    "                # Что один документ может быть на нескольких полках не рассматриваем :-) Проходим по всем\n",
    "                for key, value in directories.items():\n",
    "                    if document_number in value:\n",
    "                        value.remove(document_number)\n",
    "                # Добавляем документ на целевую полку\n",
    "                shelf = directories[user_input_shelf]\n",
    "                shelf.append(document_number)\n",
    "                print('Документ:',document_number,'перемещен на полку','#'+user_input_shelf)\n",
    "    except ValueError:\n",
    "        print('Номер полки должен быть представлен целым числом')"
   ]
  },
  {
   "cell_type": "code",
   "execution_count": 28,
   "metadata": {},
   "outputs": [],
   "source": [
    "# Вызывается из main() внизу четвертой задачи\n",
    "def a_command():\n",
    "    \"\"\"\n",
    "    a – add – команда, которая добавит новый документ в каталог и в перечень полок, \n",
    "    спросив его номер, тип, имя владельца и номер полки, на котором он будет храниться.\n",
    "    \"\"\"\n",
    "    user_number_input = input('Введите номер нового документа: ')\n",
    "    user_type_input = input('Введите тип документа: ')\n",
    "    if user_type_input not in ('passport','insurance','invoice'):\n",
    "        return print('Некорректно указан тип документа. Возможные типы: passport, insurance, invoice')\n",
    "    user_name_input = input('Введите имя владельца: ')\n",
    "    document = {}\n",
    "    document['type'] = user_type_input\n",
    "    document['number'] = user_number_input\n",
    "    document['name'] = user_name_input\n",
    "    if document in documents:\n",
    "        return print('Такой документ уже существует')\n",
    "    documents.append(document)\n",
    "    user_input_shelf = input('Введите номер полки: ')  \n",
    "    if directories.get(user_input_shelf) == None:\n",
    "        return print('Такая полка не существует')\n",
    "    shelf = directories[user_input_shelf]\n",
    "    if document['number'] in shelf:\n",
    "        # для документов, которые есть на полках, но которых нет в базе документов\n",
    "        return print('Документ уже на полке')\n",
    "    shelf.append(document['number'])"
   ]
  }
 ],
 "metadata": {
  "kernelspec": {
   "display_name": "Python 3",
   "language": "python",
   "name": "python3"
  },
  "language_info": {
   "codemirror_mode": {
    "name": "ipython",
    "version": 3
   },
   "file_extension": ".py",
   "mimetype": "text/x-python",
   "name": "python",
   "nbconvert_exporter": "python",
   "pygments_lexer": "ipython3",
   "version": "3.7.3"
  }
 },
 "nbformat": 4,
 "nbformat_minor": 2
}
